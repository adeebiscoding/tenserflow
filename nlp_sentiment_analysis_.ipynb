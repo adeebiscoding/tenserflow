{
  "nbformat": 4,
  "nbformat_minor": 0,
  "metadata": {
    "colab": {
      "provenance": [],
      "collapsed_sections": [],
      "toc_visible": true,
      "machine_shape": "hm",
      "authorship_tag": "ABX9TyNA5xrsvEl0k15Vo0mtE3Yg",
      "include_colab_link": true
    },
    "kernelspec": {
      "name": "python3",
      "display_name": "Python 3"
    },
    "language_info": {
      "name": "python"
    },
    "accelerator": "GPU",
    "gpuClass": "standard"
  },
  "cells": [
    {
      "cell_type": "markdown",
      "metadata": {
        "id": "view-in-github",
        "colab_type": "text"
      },
      "source": [
        "<a href=\"https://colab.research.google.com/github/adeebiscoding/tenserflow/blob/main/nlp_sentiment_analysis_.ipynb\" target=\"_parent\"><img src=\"https://colab.research.google.com/assets/colab-badge.svg\" alt=\"Open In Colab\"/></a>"
      ]
    },
    {
      "cell_type": "markdown",
      "source": [
        "Here I make about 6 models using Naive Bayes, Deep Learning, and pre trained models to analyze emotion in sentences from a kaggle dataset. Later, i also evaluate the best model using a confusion matrix to find out where majority of the errors are."
      ],
      "metadata": {
        "id": "X3FUb-geIJEu"
      }
    },
    {
      "cell_type": "markdown",
      "source": [
        "##Downloading Kaggle"
      ],
      "metadata": {
        "id": "CG8TTSTG82oU"
      }
    },
    {
      "cell_type": "code",
      "source": [
        "!nvidia-smi -L"
      ],
      "metadata": {
        "colab": {
          "base_uri": "https://localhost:8080/"
        },
        "id": "76_0_IhsOHgp",
        "outputId": "c6603413-b6f6-4cb0-ca21-d757c28a88f2"
      },
      "execution_count": null,
      "outputs": [
        {
          "output_type": "stream",
          "name": "stdout",
          "text": [
            "GPU 0: Tesla T4 (UUID: GPU-cc81ad62-e410-4b96-7c10-c5f975168baf)\n"
          ]
        }
      ]
    },
    {
      "cell_type": "code",
      "execution_count": null,
      "metadata": {
        "id": "pVT-Ll5M6uGf"
      },
      "outputs": [],
      "source": [
        "import pandas as pd\n",
        "import tensorflow as tf\n",
        "from tensorflow.keras import layers\n",
        "import random\n",
        "import numpy as np\n",
        "import matplotlib.pyplot as plt\n",
        "import seaborn as sns"
      ]
    },
    {
      "cell_type": "code",
      "source": [
        "from google.colab import files\n",
        "files.upload()\n",
        "#Upload your username and pwd here"
      ],
      "metadata": {
        "colab": {
          "base_uri": "https://localhost:8080/",
          "height": 91
        },
        "id": "gxADJxjn7ff6",
        "outputId": "bbdf85dc-cc6c-4361-9bdc-937524f2f37d"
      },
      "execution_count": null,
      "outputs": [
        {
          "output_type": "display_data",
          "data": {
            "text/plain": [
              "<IPython.core.display.HTML object>"
            ],
            "text/html": [
              "\n",
              "     <input type=\"file\" id=\"files-71a8b12c-92fe-4a49-8a88-5881715a4fe2\" name=\"files[]\" multiple disabled\n",
              "        style=\"border:none\" />\n",
              "     <output id=\"result-71a8b12c-92fe-4a49-8a88-5881715a4fe2\">\n",
              "      Upload widget is only available when the cell has been executed in the\n",
              "      current browser session. Please rerun this cell to enable.\n",
              "      </output>\n",
              "      <script>// Copyright 2017 Google LLC\n",
              "//\n",
              "// Licensed under the Apache License, Version 2.0 (the \"License\");\n",
              "// you may not use this file except in compliance with the License.\n",
              "// You may obtain a copy of the License at\n",
              "//\n",
              "//      http://www.apache.org/licenses/LICENSE-2.0\n",
              "//\n",
              "// Unless required by applicable law or agreed to in writing, software\n",
              "// distributed under the License is distributed on an \"AS IS\" BASIS,\n",
              "// WITHOUT WARRANTIES OR CONDITIONS OF ANY KIND, either express or implied.\n",
              "// See the License for the specific language governing permissions and\n",
              "// limitations under the License.\n",
              "\n",
              "/**\n",
              " * @fileoverview Helpers for google.colab Python module.\n",
              " */\n",
              "(function(scope) {\n",
              "function span(text, styleAttributes = {}) {\n",
              "  const element = document.createElement('span');\n",
              "  element.textContent = text;\n",
              "  for (const key of Object.keys(styleAttributes)) {\n",
              "    element.style[key] = styleAttributes[key];\n",
              "  }\n",
              "  return element;\n",
              "}\n",
              "\n",
              "// Max number of bytes which will be uploaded at a time.\n",
              "const MAX_PAYLOAD_SIZE = 100 * 1024;\n",
              "\n",
              "function _uploadFiles(inputId, outputId) {\n",
              "  const steps = uploadFilesStep(inputId, outputId);\n",
              "  const outputElement = document.getElementById(outputId);\n",
              "  // Cache steps on the outputElement to make it available for the next call\n",
              "  // to uploadFilesContinue from Python.\n",
              "  outputElement.steps = steps;\n",
              "\n",
              "  return _uploadFilesContinue(outputId);\n",
              "}\n",
              "\n",
              "// This is roughly an async generator (not supported in the browser yet),\n",
              "// where there are multiple asynchronous steps and the Python side is going\n",
              "// to poll for completion of each step.\n",
              "// This uses a Promise to block the python side on completion of each step,\n",
              "// then passes the result of the previous step as the input to the next step.\n",
              "function _uploadFilesContinue(outputId) {\n",
              "  const outputElement = document.getElementById(outputId);\n",
              "  const steps = outputElement.steps;\n",
              "\n",
              "  const next = steps.next(outputElement.lastPromiseValue);\n",
              "  return Promise.resolve(next.value.promise).then((value) => {\n",
              "    // Cache the last promise value to make it available to the next\n",
              "    // step of the generator.\n",
              "    outputElement.lastPromiseValue = value;\n",
              "    return next.value.response;\n",
              "  });\n",
              "}\n",
              "\n",
              "/**\n",
              " * Generator function which is called between each async step of the upload\n",
              " * process.\n",
              " * @param {string} inputId Element ID of the input file picker element.\n",
              " * @param {string} outputId Element ID of the output display.\n",
              " * @return {!Iterable<!Object>} Iterable of next steps.\n",
              " */\n",
              "function* uploadFilesStep(inputId, outputId) {\n",
              "  const inputElement = document.getElementById(inputId);\n",
              "  inputElement.disabled = false;\n",
              "\n",
              "  const outputElement = document.getElementById(outputId);\n",
              "  outputElement.innerHTML = '';\n",
              "\n",
              "  const pickedPromise = new Promise((resolve) => {\n",
              "    inputElement.addEventListener('change', (e) => {\n",
              "      resolve(e.target.files);\n",
              "    });\n",
              "  });\n",
              "\n",
              "  const cancel = document.createElement('button');\n",
              "  inputElement.parentElement.appendChild(cancel);\n",
              "  cancel.textContent = 'Cancel upload';\n",
              "  const cancelPromise = new Promise((resolve) => {\n",
              "    cancel.onclick = () => {\n",
              "      resolve(null);\n",
              "    };\n",
              "  });\n",
              "\n",
              "  // Wait for the user to pick the files.\n",
              "  const files = yield {\n",
              "    promise: Promise.race([pickedPromise, cancelPromise]),\n",
              "    response: {\n",
              "      action: 'starting',\n",
              "    }\n",
              "  };\n",
              "\n",
              "  cancel.remove();\n",
              "\n",
              "  // Disable the input element since further picks are not allowed.\n",
              "  inputElement.disabled = true;\n",
              "\n",
              "  if (!files) {\n",
              "    return {\n",
              "      response: {\n",
              "        action: 'complete',\n",
              "      }\n",
              "    };\n",
              "  }\n",
              "\n",
              "  for (const file of files) {\n",
              "    const li = document.createElement('li');\n",
              "    li.append(span(file.name, {fontWeight: 'bold'}));\n",
              "    li.append(span(\n",
              "        `(${file.type || 'n/a'}) - ${file.size} bytes, ` +\n",
              "        `last modified: ${\n",
              "            file.lastModifiedDate ? file.lastModifiedDate.toLocaleDateString() :\n",
              "                                    'n/a'} - `));\n",
              "    const percent = span('0% done');\n",
              "    li.appendChild(percent);\n",
              "\n",
              "    outputElement.appendChild(li);\n",
              "\n",
              "    const fileDataPromise = new Promise((resolve) => {\n",
              "      const reader = new FileReader();\n",
              "      reader.onload = (e) => {\n",
              "        resolve(e.target.result);\n",
              "      };\n",
              "      reader.readAsArrayBuffer(file);\n",
              "    });\n",
              "    // Wait for the data to be ready.\n",
              "    let fileData = yield {\n",
              "      promise: fileDataPromise,\n",
              "      response: {\n",
              "        action: 'continue',\n",
              "      }\n",
              "    };\n",
              "\n",
              "    // Use a chunked sending to avoid message size limits. See b/62115660.\n",
              "    let position = 0;\n",
              "    do {\n",
              "      const length = Math.min(fileData.byteLength - position, MAX_PAYLOAD_SIZE);\n",
              "      const chunk = new Uint8Array(fileData, position, length);\n",
              "      position += length;\n",
              "\n",
              "      const base64 = btoa(String.fromCharCode.apply(null, chunk));\n",
              "      yield {\n",
              "        response: {\n",
              "          action: 'append',\n",
              "          file: file.name,\n",
              "          data: base64,\n",
              "        },\n",
              "      };\n",
              "\n",
              "      let percentDone = fileData.byteLength === 0 ?\n",
              "          100 :\n",
              "          Math.round((position / fileData.byteLength) * 100);\n",
              "      percent.textContent = `${percentDone}% done`;\n",
              "\n",
              "    } while (position < fileData.byteLength);\n",
              "  }\n",
              "\n",
              "  // All done.\n",
              "  yield {\n",
              "    response: {\n",
              "      action: 'complete',\n",
              "    }\n",
              "  };\n",
              "}\n",
              "\n",
              "scope.google = scope.google || {};\n",
              "scope.google.colab = scope.google.colab || {};\n",
              "scope.google.colab._files = {\n",
              "  _uploadFiles,\n",
              "  _uploadFilesContinue,\n",
              "};\n",
              "})(self);\n",
              "</script> "
            ]
          },
          "metadata": {}
        },
        {
          "output_type": "stream",
          "name": "stdout",
          "text": [
            "Saving kaggle.json to kaggle (1).json\n"
          ]
        },
        {
          "output_type": "execute_result",
          "data": {
            "text/plain": [
              "{'kaggle.json': b'{\"username\":\"[hidden]\",\"key\":\"[Hidden]"}'}"
            ]
          },
          "metadata": {},
          "execution_count": 44
        }
      ]
    },
    {
      "cell_type": "code",
      "source": [
        "!pip install -q kaggle"
      ],
      "metadata": {
        "id": "imDvXLin65V7"
      },
      "execution_count": null,
      "outputs": []
    },
    {
      "cell_type": "code",
      "source": [
        "!mkdir ~/.kaggle"
      ],
      "metadata": {
        "colab": {
          "base_uri": "https://localhost:8080/"
        },
        "id": "nDirQgJnQ_dF",
        "outputId": "5730c1b4-3d71-41fb-ec35-5d336a6489e7"
      },
      "execution_count": null,
      "outputs": [
        {
          "output_type": "stream",
          "name": "stdout",
          "text": [
            "mkdir: cannot create directory ‘/root/.kaggle’: File exists\n"
          ]
        }
      ]
    },
    {
      "cell_type": "code",
      "source": [
        "!cp kaggle.json ~/.kaggle/"
      ],
      "metadata": {
        "id": "yzlA-2lh7NoV"
      },
      "execution_count": null,
      "outputs": []
    },
    {
      "cell_type": "code",
      "source": [
        "!chmod 600 ~/.kaggle/kaggle.json"
      ],
      "metadata": {
        "id": "bU7jUEoB7UT0"
      },
      "execution_count": null,
      "outputs": []
    },
    {
      "cell_type": "code",
      "source": [
        "!kaggle datasets download -d praveengovi/emotions-dataset-for-nlp"
      ],
      "metadata": {
        "colab": {
          "base_uri": "https://localhost:8080/"
        },
        "id": "4ikd3Skj7q5M",
        "outputId": "634ce0e3-f3a4-4ddc-eade-4da1ff7353dd"
      },
      "execution_count": null,
      "outputs": [
        {
          "output_type": "stream",
          "name": "stdout",
          "text": [
            "emotions-dataset-for-nlp.zip: Skipping, found more recently modified local copy (use --force to force download)\n"
          ]
        }
      ]
    },
    {
      "cell_type": "code",
      "source": [
        "!unzip emotions-dataset-for-nlp"
      ],
      "metadata": {
        "colab": {
          "base_uri": "https://localhost:8080/"
        },
        "id": "Wqd2m4jL7t_z",
        "outputId": "76939c92-d5a2-4bf5-aac3-050d07e79b31"
      },
      "execution_count": null,
      "outputs": [
        {
          "output_type": "stream",
          "name": "stdout",
          "text": [
            "Archive:  emotions-dataset-for-nlp.zip\n",
            "replace test.txt? [y]es, [n]o, [A]ll, [N]one, [r]ename: n\n",
            "replace train.txt? [y]es, [n]o, [A]ll, [N]one, [r]ename: n\n",
            "replace val.txt? [y]es, [n]o, [A]ll, [N]one, [r]ename: n\n"
          ]
        }
      ]
    },
    {
      "cell_type": "code",
      "source": [
        "#added title columns to .txt files"
      ],
      "metadata": {
        "id": "6_0Uwj7I71qK"
      },
      "execution_count": null,
      "outputs": []
    },
    {
      "cell_type": "markdown",
      "source": [
        "##Prepping inputs"
      ],
      "metadata": {
        "id": "IBAY0EXP87Bd"
      }
    },
    {
      "cell_type": "code",
      "source": [
        "train_df = pd.read_csv(filepath_or_buffer =\"/content/train.txt\" ,sep=\";\")\n",
        "test_df = pd.read_csv(filepath_or_buffer =\"/content/test.txt\" ,sep=\";\")\n",
        "val_df = pd.read_csv(filepath_or_buffer =\"/content/val.txt\" ,sep=\";\")"
      ],
      "metadata": {
        "id": "XRYwrp3S80ys"
      },
      "execution_count": null,
      "outputs": []
    },
    {
      "cell_type": "code",
      "source": [
        "shuffle_train_df = train_df.sample(frac = 1)\n",
        "shuffle_val_df = val_df.sample(frac = 1)\n",
        "shuffle_test_df = test_df.sample(frac = 1)\n",
        "\n",
        "shuffle_train_df_copy = train_df.sample(frac = 1)\n",
        "shuffle_val_df_copy = val_df.sample(frac = 1)\n",
        "shuffle_test_df_copy = test_df.sample(frac = 1)\n"
      ],
      "metadata": {
        "id": "cSTDJeS09d5_"
      },
      "execution_count": null,
      "outputs": []
    },
    {
      "cell_type": "markdown",
      "source": [
        "##One hot encodeing data"
      ],
      "metadata": {
        "id": "kgjQC_FkJ7FX"
      }
    },
    {
      "cell_type": "code",
      "source": [
        "shuffle_train_df_one_hot = pd.get_dummies(shuffle_train_df, columns = [\"emotion\"])"
      ],
      "metadata": {
        "id": "tev2RmkSJ902"
      },
      "execution_count": null,
      "outputs": []
    },
    {
      "cell_type": "code",
      "source": [
        "shuffle_train_df_one_hot"
      ],
      "metadata": {
        "colab": {
          "base_uri": "https://localhost:8080/",
          "height": 424
        },
        "id": "LyVzYNa8KXRa",
        "outputId": "2277ff91-a4f7-4383-90b0-cc0d2138eab0"
      },
      "execution_count": null,
      "outputs": [
        {
          "output_type": "execute_result",
          "data": {
            "text/plain": [
              "                                                  review  emotion_anger  \\\n",
              "5140   i won t argue with those who are disabled abou...              0   \n",
              "4174   i feel free to create the definition of what i...              0   \n",
              "4731   i know i said that i would get this to you guy...              0   \n",
              "14766  im feeling like a tortured teen i decided to p...              0   \n",
              "1461   i feel confident that we will be blessed with ...              0   \n",
              "...                                                  ...            ...   \n",
              "6010   watched a horror movie which involved sexual a...              0   \n",
              "815    i am limiting myself to what i can reasonably ...              0   \n",
              "1731   i grappled with was guilt that relatives and f...              1   \n",
              "9020   i dont think i misinterpreted at all helped me...              0   \n",
              "7900   im feeling ok to say il tough it out at the ti...              0   \n",
              "\n",
              "       emotion_fear  emotion_joy  emotion_love  emotion_sadness  \\\n",
              "5140              0            1             0                0   \n",
              "4174              0            1             0                0   \n",
              "4731              0            1             0                0   \n",
              "14766             1            0             0                0   \n",
              "1461              0            1             0                0   \n",
              "...             ...          ...           ...              ...   \n",
              "6010              1            0             0                0   \n",
              "815               0            0             0                1   \n",
              "1731              0            0             0                0   \n",
              "9020              0            1             0                0   \n",
              "7900              0            1             0                0   \n",
              "\n",
              "       emotion_surprise  \n",
              "5140                  0  \n",
              "4174                  0  \n",
              "4731                  0  \n",
              "14766                 0  \n",
              "1461                  0  \n",
              "...                 ...  \n",
              "6010                  0  \n",
              "815                   0  \n",
              "1731                  0  \n",
              "9020                  0  \n",
              "7900                  0  \n",
              "\n",
              "[16000 rows x 7 columns]"
            ],
            "text/html": [
              "\n",
              "  <div id=\"df-e23cf086-edb7-489e-88ab-54bada8d1d61\">\n",
              "    <div class=\"colab-df-container\">\n",
              "      <div>\n",
              "<style scoped>\n",
              "    .dataframe tbody tr th:only-of-type {\n",
              "        vertical-align: middle;\n",
              "    }\n",
              "\n",
              "    .dataframe tbody tr th {\n",
              "        vertical-align: top;\n",
              "    }\n",
              "\n",
              "    .dataframe thead th {\n",
              "        text-align: right;\n",
              "    }\n",
              "</style>\n",
              "<table border=\"1\" class=\"dataframe\">\n",
              "  <thead>\n",
              "    <tr style=\"text-align: right;\">\n",
              "      <th></th>\n",
              "      <th>review</th>\n",
              "      <th>emotion_anger</th>\n",
              "      <th>emotion_fear</th>\n",
              "      <th>emotion_joy</th>\n",
              "      <th>emotion_love</th>\n",
              "      <th>emotion_sadness</th>\n",
              "      <th>emotion_surprise</th>\n",
              "    </tr>\n",
              "  </thead>\n",
              "  <tbody>\n",
              "    <tr>\n",
              "      <th>5140</th>\n",
              "      <td>i won t argue with those who are disabled abou...</td>\n",
              "      <td>0</td>\n",
              "      <td>0</td>\n",
              "      <td>1</td>\n",
              "      <td>0</td>\n",
              "      <td>0</td>\n",
              "      <td>0</td>\n",
              "    </tr>\n",
              "    <tr>\n",
              "      <th>4174</th>\n",
              "      <td>i feel free to create the definition of what i...</td>\n",
              "      <td>0</td>\n",
              "      <td>0</td>\n",
              "      <td>1</td>\n",
              "      <td>0</td>\n",
              "      <td>0</td>\n",
              "      <td>0</td>\n",
              "    </tr>\n",
              "    <tr>\n",
              "      <th>4731</th>\n",
              "      <td>i know i said that i would get this to you guy...</td>\n",
              "      <td>0</td>\n",
              "      <td>0</td>\n",
              "      <td>1</td>\n",
              "      <td>0</td>\n",
              "      <td>0</td>\n",
              "      <td>0</td>\n",
              "    </tr>\n",
              "    <tr>\n",
              "      <th>14766</th>\n",
              "      <td>im feeling like a tortured teen i decided to p...</td>\n",
              "      <td>0</td>\n",
              "      <td>1</td>\n",
              "      <td>0</td>\n",
              "      <td>0</td>\n",
              "      <td>0</td>\n",
              "      <td>0</td>\n",
              "    </tr>\n",
              "    <tr>\n",
              "      <th>1461</th>\n",
              "      <td>i feel confident that we will be blessed with ...</td>\n",
              "      <td>0</td>\n",
              "      <td>0</td>\n",
              "      <td>1</td>\n",
              "      <td>0</td>\n",
              "      <td>0</td>\n",
              "      <td>0</td>\n",
              "    </tr>\n",
              "    <tr>\n",
              "      <th>...</th>\n",
              "      <td>...</td>\n",
              "      <td>...</td>\n",
              "      <td>...</td>\n",
              "      <td>...</td>\n",
              "      <td>...</td>\n",
              "      <td>...</td>\n",
              "      <td>...</td>\n",
              "    </tr>\n",
              "    <tr>\n",
              "      <th>6010</th>\n",
              "      <td>watched a horror movie which involved sexual a...</td>\n",
              "      <td>0</td>\n",
              "      <td>1</td>\n",
              "      <td>0</td>\n",
              "      <td>0</td>\n",
              "      <td>0</td>\n",
              "      <td>0</td>\n",
              "    </tr>\n",
              "    <tr>\n",
              "      <th>815</th>\n",
              "      <td>i am limiting myself to what i can reasonably ...</td>\n",
              "      <td>0</td>\n",
              "      <td>0</td>\n",
              "      <td>0</td>\n",
              "      <td>0</td>\n",
              "      <td>1</td>\n",
              "      <td>0</td>\n",
              "    </tr>\n",
              "    <tr>\n",
              "      <th>1731</th>\n",
              "      <td>i grappled with was guilt that relatives and f...</td>\n",
              "      <td>1</td>\n",
              "      <td>0</td>\n",
              "      <td>0</td>\n",
              "      <td>0</td>\n",
              "      <td>0</td>\n",
              "      <td>0</td>\n",
              "    </tr>\n",
              "    <tr>\n",
              "      <th>9020</th>\n",
              "      <td>i dont think i misinterpreted at all helped me...</td>\n",
              "      <td>0</td>\n",
              "      <td>0</td>\n",
              "      <td>1</td>\n",
              "      <td>0</td>\n",
              "      <td>0</td>\n",
              "      <td>0</td>\n",
              "    </tr>\n",
              "    <tr>\n",
              "      <th>7900</th>\n",
              "      <td>im feeling ok to say il tough it out at the ti...</td>\n",
              "      <td>0</td>\n",
              "      <td>0</td>\n",
              "      <td>1</td>\n",
              "      <td>0</td>\n",
              "      <td>0</td>\n",
              "      <td>0</td>\n",
              "    </tr>\n",
              "  </tbody>\n",
              "</table>\n",
              "<p>16000 rows × 7 columns</p>\n",
              "</div>\n",
              "      <button class=\"colab-df-convert\" onclick=\"convertToInteractive('df-e23cf086-edb7-489e-88ab-54bada8d1d61')\"\n",
              "              title=\"Convert this dataframe to an interactive table.\"\n",
              "              style=\"display:none;\">\n",
              "        \n",
              "  <svg xmlns=\"http://www.w3.org/2000/svg\" height=\"24px\"viewBox=\"0 0 24 24\"\n",
              "       width=\"24px\">\n",
              "    <path d=\"M0 0h24v24H0V0z\" fill=\"none\"/>\n",
              "    <path d=\"M18.56 5.44l.94 2.06.94-2.06 2.06-.94-2.06-.94-.94-2.06-.94 2.06-2.06.94zm-11 1L8.5 8.5l.94-2.06 2.06-.94-2.06-.94L8.5 2.5l-.94 2.06-2.06.94zm10 10l.94 2.06.94-2.06 2.06-.94-2.06-.94-.94-2.06-.94 2.06-2.06.94z\"/><path d=\"M17.41 7.96l-1.37-1.37c-.4-.4-.92-.59-1.43-.59-.52 0-1.04.2-1.43.59L10.3 9.45l-7.72 7.72c-.78.78-.78 2.05 0 2.83L4 21.41c.39.39.9.59 1.41.59.51 0 1.02-.2 1.41-.59l7.78-7.78 2.81-2.81c.8-.78.8-2.07 0-2.86zM5.41 20L4 18.59l7.72-7.72 1.47 1.35L5.41 20z\"/>\n",
              "  </svg>\n",
              "      </button>\n",
              "      \n",
              "  <style>\n",
              "    .colab-df-container {\n",
              "      display:flex;\n",
              "      flex-wrap:wrap;\n",
              "      gap: 12px;\n",
              "    }\n",
              "\n",
              "    .colab-df-convert {\n",
              "      background-color: #E8F0FE;\n",
              "      border: none;\n",
              "      border-radius: 50%;\n",
              "      cursor: pointer;\n",
              "      display: none;\n",
              "      fill: #1967D2;\n",
              "      height: 32px;\n",
              "      padding: 0 0 0 0;\n",
              "      width: 32px;\n",
              "    }\n",
              "\n",
              "    .colab-df-convert:hover {\n",
              "      background-color: #E2EBFA;\n",
              "      box-shadow: 0px 1px 2px rgba(60, 64, 67, 0.3), 0px 1px 3px 1px rgba(60, 64, 67, 0.15);\n",
              "      fill: #174EA6;\n",
              "    }\n",
              "\n",
              "    [theme=dark] .colab-df-convert {\n",
              "      background-color: #3B4455;\n",
              "      fill: #D2E3FC;\n",
              "    }\n",
              "\n",
              "    [theme=dark] .colab-df-convert:hover {\n",
              "      background-color: #434B5C;\n",
              "      box-shadow: 0px 1px 3px 1px rgba(0, 0, 0, 0.15);\n",
              "      filter: drop-shadow(0px 1px 2px rgba(0, 0, 0, 0.3));\n",
              "      fill: #FFFFFF;\n",
              "    }\n",
              "  </style>\n",
              "\n",
              "      <script>\n",
              "        const buttonEl =\n",
              "          document.querySelector('#df-e23cf086-edb7-489e-88ab-54bada8d1d61 button.colab-df-convert');\n",
              "        buttonEl.style.display =\n",
              "          google.colab.kernel.accessAllowed ? 'block' : 'none';\n",
              "\n",
              "        async function convertToInteractive(key) {\n",
              "          const element = document.querySelector('#df-e23cf086-edb7-489e-88ab-54bada8d1d61');\n",
              "          const dataTable =\n",
              "            await google.colab.kernel.invokeFunction('convertToInteractive',\n",
              "                                                     [key], {});\n",
              "          if (!dataTable) return;\n",
              "\n",
              "          const docLinkHtml = 'Like what you see? Visit the ' +\n",
              "            '<a target=\"_blank\" href=https://colab.research.google.com/notebooks/data_table.ipynb>data table notebook</a>'\n",
              "            + ' to learn more about interactive tables.';\n",
              "          element.innerHTML = '';\n",
              "          dataTable['output_type'] = 'display_data';\n",
              "          await google.colab.output.renderOutput(dataTable, element);\n",
              "          const docLink = document.createElement('div');\n",
              "          docLink.innerHTML = docLinkHtml;\n",
              "          element.appendChild(docLink);\n",
              "        }\n",
              "      </script>\n",
              "    </div>\n",
              "  </div>\n",
              "  "
            ]
          },
          "metadata": {},
          "execution_count": 55
        }
      ]
    },
    {
      "cell_type": "code",
      "source": [
        "shuffle_test_df.columns"
      ],
      "metadata": {
        "colab": {
          "base_uri": "https://localhost:8080/"
        },
        "id": "rtI1rNySKxjv",
        "outputId": "be84174b-cdbd-4f02-a1c4-3a59c22174ce"
      },
      "execution_count": null,
      "outputs": [
        {
          "output_type": "execute_result",
          "data": {
            "text/plain": [
              "Index(['review', 'emotion'], dtype='object')"
            ]
          },
          "metadata": {},
          "execution_count": 56
        }
      ]
    },
    {
      "cell_type": "code",
      "source": [
        "shuffle_test_df_one_hot = pd.get_dummies(shuffle_test_df, columns = [\"emotion\"])\n",
        "shuffle_val_df_one_hot = pd.get_dummies(shuffle_val_df, columns = [\"emotion\"])"
      ],
      "metadata": {
        "id": "ao9RANr2Kb83"
      },
      "execution_count": null,
      "outputs": []
    },
    {
      "cell_type": "markdown",
      "source": [
        "##Visualizing random samples of data"
      ],
      "metadata": {
        "id": "xDiQdM7d-BoK"
      }
    },
    {
      "cell_type": "code",
      "source": [
        "def visualize(df, count):\n",
        "  rand_idx = random.sample(range(0,len(df)), count)\n",
        "  for x in range (count):\n",
        "    print(f'''\n",
        "      review: {df.loc[rand_idx[x]][\"review\"]}\n",
        "\n",
        "      emotion: {df.loc[rand_idx[x]][\"emotion\"]}\n",
        "\n",
        "      ------------------------------------------\n",
        "    ''')"
      ],
      "metadata": {
        "id": "Z3968odH-Hwe"
      },
      "execution_count": null,
      "outputs": []
    },
    {
      "cell_type": "code",
      "source": [
        "visualize(shuffle_train_df, 3)"
      ],
      "metadata": {
        "colab": {
          "base_uri": "https://localhost:8080/"
        },
        "id": "GlLvOs0b-1Ql",
        "outputId": "06341027-e32d-4f08-dd99-0f76b1450356"
      },
      "execution_count": null,
      "outputs": [
        {
          "output_type": "stream",
          "name": "stdout",
          "text": [
            "\n",
            "      review: i do i feel like i just make him mad or upset and he doesn t talk to me\n",
            "\n",
            "      emotion: anger\n",
            "\n",
            "      ------------------------------------------\n",
            "    \n",
            "\n",
            "      review: i feel fairly sure readers will continue to pay for fiction\n",
            "\n",
            "      emotion: joy\n",
            "\n",
            "      ------------------------------------------\n",
            "    \n",
            "\n",
            "      review: i did not feel like i was on the edge and it got to a point where i wasn t bothered about who wins and to hell with it whether this fight will even end\n",
            "\n",
            "      emotion: anger\n",
            "\n",
            "      ------------------------------------------\n",
            "    \n"
          ]
        }
      ]
    },
    {
      "cell_type": "code",
      "source": [
        "visualize(shuffle_val_df, 3)"
      ],
      "metadata": {
        "colab": {
          "base_uri": "https://localhost:8080/"
        },
        "id": "kNMFE61y_yvN",
        "outputId": "49f70454-6ce9-480a-9f2f-86bcf44caf90"
      },
      "execution_count": null,
      "outputs": [
        {
          "output_type": "stream",
          "name": "stdout",
          "text": [
            "\n",
            "      review: i feel that with my superior vegan diet i should not get sick at all\n",
            "\n",
            "      emotion: joy\n",
            "\n",
            "      ------------------------------------------\n",
            "    \n",
            "\n",
            "      review: i always feel scared when i see a cop instead of feeling safe\n",
            "\n",
            "      emotion: fear\n",
            "\n",
            "      ------------------------------------------\n",
            "    \n",
            "\n",
            "      review: i dunno i just feel so useless\n",
            "\n",
            "      emotion: sadness\n",
            "\n",
            "      ------------------------------------------\n",
            "    \n"
          ]
        }
      ]
    },
    {
      "cell_type": "code",
      "source": [
        "from sklearn.metrics import accuracy_score, precision_recall_fscore_support\n",
        "def calculate_results(y_true, y_pred):\n",
        "  \"\"\"\n",
        "  Calculates model accuracy, precision, recall and f1 score of a binary classification model.\n",
        "\n",
        "  Args:\n",
        "  -----\n",
        "  y_true = true labels in the form of a 1D array\n",
        "  y_pred = predicted labels in the form of a 1D array\n",
        "\n",
        "  Returns a dictionary of accuracy, precision, recall, f1-score.\n",
        "  \"\"\"\n",
        "  # Calculate model accuracy\n",
        "  model_accuracy = accuracy_score(y_true, y_pred) * 100\n",
        "  # Calculate model precision, recall and f1 score using \"weighted\" average\n",
        "  model_precision, model_recall, model_f1, _ = precision_recall_fscore_support(y_true, y_pred, average=\"weighted\")\n",
        "  model_results = {\"accuracy\": model_accuracy,\n",
        "                  \"precision\": model_precision,\n",
        "                  \"recall\": model_recall,\n",
        "                  \"f1\": model_f1}\n",
        "  return model_results"
      ],
      "metadata": {
        "id": "ftYLO7eG_z6t"
      },
      "execution_count": null,
      "outputs": []
    },
    {
      "cell_type": "markdown",
      "source": [
        "###Seeing if data set is balanced"
      ],
      "metadata": {
        "id": "CDwqHuYiAkHE"
      }
    },
    {
      "cell_type": "code",
      "source": [
        "for vals in train_df[\"emotion\"].unique():\n",
        "  print(f'''\n",
        "  {vals} : {len(train_df[train_df[\"emotion\"]==vals])} \n",
        "  ''')"
      ],
      "metadata": {
        "colab": {
          "base_uri": "https://localhost:8080/"
        },
        "id": "J8xTkTh0BN_3",
        "outputId": "896efd15-5f21-4349-fc4b-365f34c08103"
      },
      "execution_count": null,
      "outputs": [
        {
          "output_type": "stream",
          "name": "stdout",
          "text": [
            "\n",
            "  sadness : 4666 \n",
            "  \n",
            "\n",
            "  anger : 2159 \n",
            "  \n",
            "\n",
            "  love : 1304 \n",
            "  \n",
            "\n",
            "  surprise : 572 \n",
            "  \n",
            "\n",
            "  fear : 1937 \n",
            "  \n",
            "\n",
            "  joy : 5362 \n",
            "  \n"
          ]
        }
      ]
    },
    {
      "cell_type": "markdown",
      "source": [
        "Our data is unfortunatly imbalanced"
      ],
      "metadata": {
        "id": "pjSNRhy4BmN0"
      }
    },
    {
      "cell_type": "markdown",
      "source": [
        "##Using Scikit learn for our model\n",
        "\n",
        "We will use Naive Bayes algos and see how it performs "
      ],
      "metadata": {
        "id": "gf9av60XBurm"
      }
    },
    {
      "cell_type": "markdown",
      "source": [
        "###CategoricalNB\n",
        "\n",
        "This uses tfidfvectorizer to input numerical data into multinomialNB layer."
      ],
      "metadata": {
        "id": "yHF8YzE1NFX6"
      }
    },
    {
      "cell_type": "code",
      "source": [
        "shuffle_train_df_one_hot.columns"
      ],
      "metadata": {
        "colab": {
          "base_uri": "https://localhost:8080/"
        },
        "id": "tLTmNCMtNmBS",
        "outputId": "ca167c32-04e0-495c-9b4c-a7412f01ae0a"
      },
      "execution_count": null,
      "outputs": [
        {
          "output_type": "execute_result",
          "data": {
            "text/plain": [
              "Index(['review', 'emotion_anger', 'emotion_fear', 'emotion_joy',\n",
              "       'emotion_love', 'emotion_sadness', 'emotion_surprise'],\n",
              "      dtype='object')"
            ]
          },
          "metadata": {},
          "execution_count": 63
        }
      ]
    },
    {
      "cell_type": "code",
      "source": [
        "shuffle_train_df_one_hot[shuffle_train_df_one_hot.columns[1:]]"
      ],
      "metadata": {
        "colab": {
          "base_uri": "https://localhost:8080/",
          "height": 424
        },
        "id": "Ob0hqV-KNwcd",
        "outputId": "1de66f71-9480-4658-fef0-10f522cf7a82"
      },
      "execution_count": null,
      "outputs": [
        {
          "output_type": "execute_result",
          "data": {
            "text/plain": [
              "       emotion_anger  emotion_fear  emotion_joy  emotion_love  \\\n",
              "5140               0             0            1             0   \n",
              "4174               0             0            1             0   \n",
              "4731               0             0            1             0   \n",
              "14766              0             1            0             0   \n",
              "1461               0             0            1             0   \n",
              "...              ...           ...          ...           ...   \n",
              "6010               0             1            0             0   \n",
              "815                0             0            0             0   \n",
              "1731               1             0            0             0   \n",
              "9020               0             0            1             0   \n",
              "7900               0             0            1             0   \n",
              "\n",
              "       emotion_sadness  emotion_surprise  \n",
              "5140                 0                 0  \n",
              "4174                 0                 0  \n",
              "4731                 0                 0  \n",
              "14766                0                 0  \n",
              "1461                 0                 0  \n",
              "...                ...               ...  \n",
              "6010                 0                 0  \n",
              "815                  1                 0  \n",
              "1731                 0                 0  \n",
              "9020                 0                 0  \n",
              "7900                 0                 0  \n",
              "\n",
              "[16000 rows x 6 columns]"
            ],
            "text/html": [
              "\n",
              "  <div id=\"df-9e045fd8-02ba-4986-89d8-7093a9640694\">\n",
              "    <div class=\"colab-df-container\">\n",
              "      <div>\n",
              "<style scoped>\n",
              "    .dataframe tbody tr th:only-of-type {\n",
              "        vertical-align: middle;\n",
              "    }\n",
              "\n",
              "    .dataframe tbody tr th {\n",
              "        vertical-align: top;\n",
              "    }\n",
              "\n",
              "    .dataframe thead th {\n",
              "        text-align: right;\n",
              "    }\n",
              "</style>\n",
              "<table border=\"1\" class=\"dataframe\">\n",
              "  <thead>\n",
              "    <tr style=\"text-align: right;\">\n",
              "      <th></th>\n",
              "      <th>emotion_anger</th>\n",
              "      <th>emotion_fear</th>\n",
              "      <th>emotion_joy</th>\n",
              "      <th>emotion_love</th>\n",
              "      <th>emotion_sadness</th>\n",
              "      <th>emotion_surprise</th>\n",
              "    </tr>\n",
              "  </thead>\n",
              "  <tbody>\n",
              "    <tr>\n",
              "      <th>5140</th>\n",
              "      <td>0</td>\n",
              "      <td>0</td>\n",
              "      <td>1</td>\n",
              "      <td>0</td>\n",
              "      <td>0</td>\n",
              "      <td>0</td>\n",
              "    </tr>\n",
              "    <tr>\n",
              "      <th>4174</th>\n",
              "      <td>0</td>\n",
              "      <td>0</td>\n",
              "      <td>1</td>\n",
              "      <td>0</td>\n",
              "      <td>0</td>\n",
              "      <td>0</td>\n",
              "    </tr>\n",
              "    <tr>\n",
              "      <th>4731</th>\n",
              "      <td>0</td>\n",
              "      <td>0</td>\n",
              "      <td>1</td>\n",
              "      <td>0</td>\n",
              "      <td>0</td>\n",
              "      <td>0</td>\n",
              "    </tr>\n",
              "    <tr>\n",
              "      <th>14766</th>\n",
              "      <td>0</td>\n",
              "      <td>1</td>\n",
              "      <td>0</td>\n",
              "      <td>0</td>\n",
              "      <td>0</td>\n",
              "      <td>0</td>\n",
              "    </tr>\n",
              "    <tr>\n",
              "      <th>1461</th>\n",
              "      <td>0</td>\n",
              "      <td>0</td>\n",
              "      <td>1</td>\n",
              "      <td>0</td>\n",
              "      <td>0</td>\n",
              "      <td>0</td>\n",
              "    </tr>\n",
              "    <tr>\n",
              "      <th>...</th>\n",
              "      <td>...</td>\n",
              "      <td>...</td>\n",
              "      <td>...</td>\n",
              "      <td>...</td>\n",
              "      <td>...</td>\n",
              "      <td>...</td>\n",
              "    </tr>\n",
              "    <tr>\n",
              "      <th>6010</th>\n",
              "      <td>0</td>\n",
              "      <td>1</td>\n",
              "      <td>0</td>\n",
              "      <td>0</td>\n",
              "      <td>0</td>\n",
              "      <td>0</td>\n",
              "    </tr>\n",
              "    <tr>\n",
              "      <th>815</th>\n",
              "      <td>0</td>\n",
              "      <td>0</td>\n",
              "      <td>0</td>\n",
              "      <td>0</td>\n",
              "      <td>1</td>\n",
              "      <td>0</td>\n",
              "    </tr>\n",
              "    <tr>\n",
              "      <th>1731</th>\n",
              "      <td>1</td>\n",
              "      <td>0</td>\n",
              "      <td>0</td>\n",
              "      <td>0</td>\n",
              "      <td>0</td>\n",
              "      <td>0</td>\n",
              "    </tr>\n",
              "    <tr>\n",
              "      <th>9020</th>\n",
              "      <td>0</td>\n",
              "      <td>0</td>\n",
              "      <td>1</td>\n",
              "      <td>0</td>\n",
              "      <td>0</td>\n",
              "      <td>0</td>\n",
              "    </tr>\n",
              "    <tr>\n",
              "      <th>7900</th>\n",
              "      <td>0</td>\n",
              "      <td>0</td>\n",
              "      <td>1</td>\n",
              "      <td>0</td>\n",
              "      <td>0</td>\n",
              "      <td>0</td>\n",
              "    </tr>\n",
              "  </tbody>\n",
              "</table>\n",
              "<p>16000 rows × 6 columns</p>\n",
              "</div>\n",
              "      <button class=\"colab-df-convert\" onclick=\"convertToInteractive('df-9e045fd8-02ba-4986-89d8-7093a9640694')\"\n",
              "              title=\"Convert this dataframe to an interactive table.\"\n",
              "              style=\"display:none;\">\n",
              "        \n",
              "  <svg xmlns=\"http://www.w3.org/2000/svg\" height=\"24px\"viewBox=\"0 0 24 24\"\n",
              "       width=\"24px\">\n",
              "    <path d=\"M0 0h24v24H0V0z\" fill=\"none\"/>\n",
              "    <path d=\"M18.56 5.44l.94 2.06.94-2.06 2.06-.94-2.06-.94-.94-2.06-.94 2.06-2.06.94zm-11 1L8.5 8.5l.94-2.06 2.06-.94-2.06-.94L8.5 2.5l-.94 2.06-2.06.94zm10 10l.94 2.06.94-2.06 2.06-.94-2.06-.94-.94-2.06-.94 2.06-2.06.94z\"/><path d=\"M17.41 7.96l-1.37-1.37c-.4-.4-.92-.59-1.43-.59-.52 0-1.04.2-1.43.59L10.3 9.45l-7.72 7.72c-.78.78-.78 2.05 0 2.83L4 21.41c.39.39.9.59 1.41.59.51 0 1.02-.2 1.41-.59l7.78-7.78 2.81-2.81c.8-.78.8-2.07 0-2.86zM5.41 20L4 18.59l7.72-7.72 1.47 1.35L5.41 20z\"/>\n",
              "  </svg>\n",
              "      </button>\n",
              "      \n",
              "  <style>\n",
              "    .colab-df-container {\n",
              "      display:flex;\n",
              "      flex-wrap:wrap;\n",
              "      gap: 12px;\n",
              "    }\n",
              "\n",
              "    .colab-df-convert {\n",
              "      background-color: #E8F0FE;\n",
              "      border: none;\n",
              "      border-radius: 50%;\n",
              "      cursor: pointer;\n",
              "      display: none;\n",
              "      fill: #1967D2;\n",
              "      height: 32px;\n",
              "      padding: 0 0 0 0;\n",
              "      width: 32px;\n",
              "    }\n",
              "\n",
              "    .colab-df-convert:hover {\n",
              "      background-color: #E2EBFA;\n",
              "      box-shadow: 0px 1px 2px rgba(60, 64, 67, 0.3), 0px 1px 3px 1px rgba(60, 64, 67, 0.15);\n",
              "      fill: #174EA6;\n",
              "    }\n",
              "\n",
              "    [theme=dark] .colab-df-convert {\n",
              "      background-color: #3B4455;\n",
              "      fill: #D2E3FC;\n",
              "    }\n",
              "\n",
              "    [theme=dark] .colab-df-convert:hover {\n",
              "      background-color: #434B5C;\n",
              "      box-shadow: 0px 1px 3px 1px rgba(0, 0, 0, 0.15);\n",
              "      filter: drop-shadow(0px 1px 2px rgba(0, 0, 0, 0.3));\n",
              "      fill: #FFFFFF;\n",
              "    }\n",
              "  </style>\n",
              "\n",
              "      <script>\n",
              "        const buttonEl =\n",
              "          document.querySelector('#df-9e045fd8-02ba-4986-89d8-7093a9640694 button.colab-df-convert');\n",
              "        buttonEl.style.display =\n",
              "          google.colab.kernel.accessAllowed ? 'block' : 'none';\n",
              "\n",
              "        async function convertToInteractive(key) {\n",
              "          const element = document.querySelector('#df-9e045fd8-02ba-4986-89d8-7093a9640694');\n",
              "          const dataTable =\n",
              "            await google.colab.kernel.invokeFunction('convertToInteractive',\n",
              "                                                     [key], {});\n",
              "          if (!dataTable) return;\n",
              "\n",
              "          const docLinkHtml = 'Like what you see? Visit the ' +\n",
              "            '<a target=\"_blank\" href=https://colab.research.google.com/notebooks/data_table.ipynb>data table notebook</a>'\n",
              "            + ' to learn more about interactive tables.';\n",
              "          element.innerHTML = '';\n",
              "          dataTable['output_type'] = 'display_data';\n",
              "          await google.colab.output.renderOutput(dataTable, element);\n",
              "          const docLink = document.createElement('div');\n",
              "          docLink.innerHTML = docLinkHtml;\n",
              "          element.appendChild(docLink);\n",
              "        }\n",
              "      </script>\n",
              "    </div>\n",
              "  </div>\n",
              "  "
            ]
          },
          "metadata": {},
          "execution_count": 64
        }
      ]
    },
    {
      "cell_type": "markdown",
      "source": [
        "CategoricalNB requires dense input so we will convert to dense"
      ],
      "metadata": {
        "id": "gw9FuCBjPoo-"
      }
    },
    {
      "cell_type": "code",
      "source": [
        "# from sklearn.model_selection import train_test_split\n",
        "\n",
        "# train_sentences, val_sentences, train_labels, val_labels = train_test_split(shuffle_train_df[\"review\"].to_numpy(),\n",
        "#                                                                             shuffle_train_df[\"emotion\"].to_numpy(),\n",
        "#                                                                             test_size=0.01, # dedicate 10% of samples to validation set\n",
        "#                                                                             random_state=42,\n",
        "#                                                                             #stratify=shuffle_train_df[\"emotion\"].to_numpy()\n",
        "#                                                                             )"
      ],
      "metadata": {
        "id": "e3Ed3oxXX2yW"
      },
      "execution_count": null,
      "outputs": []
    },
    {
      "cell_type": "code",
      "source": [
        "# converting code to originalEncoder since it CategoricalNB works with OriginalEncoder\n",
        "from sklearn.preprocessing import OrdinalEncoder\n",
        "enc = OrdinalEncoder()\n",
        "enc.fit( shuffle_train_df[[\"emotion\"]])\n",
        "shuffle_train_df[[\"emotion\"]] = enc.transform(shuffle_train_df[[\"emotion\"]])"
      ],
      "metadata": {
        "id": "szsyMYAd_92a"
      },
      "execution_count": null,
      "outputs": []
    },
    {
      "cell_type": "code",
      "source": [
        "from sklearn.base import TransformerMixin\n",
        "class DenseTransformer(TransformerMixin):\n",
        "\n",
        "    def fit(self, X, y=None, **fit_params):\n",
        "        return self\n",
        "\n",
        "    def transform(self, X, y=None, **fit_params):\n",
        "        return X.todense()"
      ],
      "metadata": {
        "id": "Ial-_b2fffNv"
      },
      "execution_count": null,
      "outputs": []
    },
    {
      "cell_type": "code",
      "source": [
        "from sklearn.feature_extraction.text import TfidfVectorizer\n",
        "from sklearn.naive_bayes import MultinomialNB, CategoricalNB \n",
        "from sklearn.pipeline import Pipeline\n",
        "\n",
        "# Create tokenization and modelling pipeline - > works in order like sequential in tensorflow\n",
        "model_0 = Pipeline([\n",
        "                    (\"tfidf\", TfidfVectorizer()),\n",
        "                    (\"to_dense\", DenseTransformer()),\n",
        "                    (\"clf\", CategoricalNB()) # model the text, clf = classifier\n",
        "])\n",
        "\n",
        "# Fit the pipeline to the training data\n",
        "#model_0.fit(shuffle_train_df[\"review\"].to_numpy(dtype = \"str\"), shuffle_train_df[\"emotion\"].to_numpy())\n",
        "#model_0.fit(train_sentences, train_labels)\n",
        "train_X = shuffle_train_df[\"review\"].to_numpy()\n",
        "train_y = shuffle_train_df[[\"emotion\"]].to_numpy()\n",
        "model_0.fit(shuffle_train_df[\"review\"].to_numpy(), shuffle_train_df[[\"emotion\"]].to_numpy())"
      ],
      "metadata": {
        "colab": {
          "base_uri": "https://localhost:8080/"
        },
        "id": "-MEK-nQPI-lB",
        "outputId": "79e4c283-474d-4147-95fc-a675e99fb023"
      },
      "execution_count": null,
      "outputs": [
        {
          "output_type": "stream",
          "name": "stderr",
          "text": [
            "/usr/local/lib/python3.7/dist-packages/sklearn/utils/validation.py:598: FutureWarning: np.matrix usage is deprecated in 1.0 and will raise a TypeError in 1.2. Please convert to a numpy array with np.asarray. For more information see: https://numpy.org/doc/stable/reference/generated/numpy.matrix.html\n",
            "  FutureWarning,\n",
            "/usr/local/lib/python3.7/dist-packages/sklearn/utils/validation.py:993: DataConversionWarning: A column-vector y was passed when a 1d array was expected. Please change the shape of y to (n_samples, ), for example using ravel().\n",
            "  y = column_or_1d(y, warn=True)\n"
          ]
        },
        {
          "output_type": "execute_result",
          "data": {
            "text/plain": [
              "Pipeline(steps=[('tfidf', TfidfVectorizer()),\n",
              "                ('to_dense',\n",
              "                 <__main__.DenseTransformer object at 0x7fef9794e590>),\n",
              "                ('clf', CategoricalNB())])"
            ]
          },
          "metadata": {},
          "execution_count": 68
        }
      ]
    },
    {
      "cell_type": "code",
      "source": [
        "#Evaluating model_0\n",
        "\n",
        "enc.fit( shuffle_val_df[[\"emotion\"]])\n",
        "shuffle_val_df[[\"emotion\"]] = enc.transform(shuffle_val_df[[\"emotion\"]])\n",
        "\n",
        "val_X = shuffle_val_df[\"review\"].to_numpy()\n",
        "val_y = shuffle_val_df[[\"emotion\"]].to_numpy()\n",
        "\n",
        "model_0_score = model_0.score(val_X,val_y)\n",
        "model_0_score"
      ],
      "metadata": {
        "colab": {
          "base_uri": "https://localhost:8080/"
        },
        "id": "eW4AsDswBW08",
        "outputId": "a6cd9512-9de9-4423-b5c1-d43fa710be58"
      },
      "execution_count": null,
      "outputs": [
        {
          "output_type": "stream",
          "name": "stderr",
          "text": [
            "/usr/local/lib/python3.7/dist-packages/sklearn/utils/validation.py:598: FutureWarning: np.matrix usage is deprecated in 1.0 and will raise a TypeError in 1.2. Please convert to a numpy array with np.asarray. For more information see: https://numpy.org/doc/stable/reference/generated/numpy.matrix.html\n",
            "  FutureWarning,\n"
          ]
        },
        {
          "output_type": "execute_result",
          "data": {
            "text/plain": [
              "0.352"
            ]
          },
          "metadata": {},
          "execution_count": 69
        }
      ]
    },
    {
      "cell_type": "code",
      "source": [
        "print(f\"Total unique categories {len(shuffle_test_df.emotion.unique())}\")"
      ],
      "metadata": {
        "colab": {
          "base_uri": "https://localhost:8080/"
        },
        "id": "mv506DbDCHze",
        "outputId": "2ebce0ef-68e1-4d0c-a012-b606a8fdf8b8"
      },
      "execution_count": null,
      "outputs": [
        {
          "output_type": "stream",
          "name": "stdout",
          "text": [
            "Total unique categories 6\n"
          ]
        }
      ]
    },
    {
      "cell_type": "markdown",
      "source": [
        "Our model is at 35.2% accuracy. Which means its doing slightly better than guesing since guessing would mean it should perform at 17% accuracy (100/6 = 16.6)"
      ],
      "metadata": {
        "id": "JqCvbhZIB04_"
      }
    },
    {
      "cell_type": "markdown",
      "source": [
        "##Setting up mixed precision"
      ],
      "metadata": {
        "id": "okBB3QoHST7Q"
      }
    },
    {
      "cell_type": "code",
      "source": [
        "from tensorflow.keras import mixed_precision\n",
        "mixed_precision.set_global_policy(policy=\"mixed_float16\")"
      ],
      "metadata": {
        "id": "tCxo340zSQRo"
      },
      "execution_count": null,
      "outputs": []
    },
    {
      "cell_type": "markdown",
      "source": [
        "##RNNs"
      ],
      "metadata": {
        "id": "VsWzH1TUDXny"
      }
    },
    {
      "cell_type": "markdown",
      "source": [
        "###Creating vectorizer\n",
        "\n",
        "Used for feeding into embedding layer which finds patterns and requires int as inputs"
      ],
      "metadata": {
        "id": "Qw0BFBmBKqWF"
      }
    },
    {
      "cell_type": "code",
      "source": [
        "from tensorflow.keras.layers.experimental.preprocessing import TextVectorization"
      ],
      "metadata": {
        "id": "1FYXwddpHnP-"
      },
      "execution_count": null,
      "outputs": []
    },
    {
      "cell_type": "code",
      "source": [
        "#setup text vectorization variables\n",
        "text_vectorizer = TextVectorization(max_tokens=16000, # take top 16k words for analysis\n",
        "                                    output_mode = \"int\",\n",
        "                                    output_sequence_length = 20 #length of output vector\n",
        "                                    )"
      ],
      "metadata": {
        "id": "ur_hMtYbIl06"
      },
      "execution_count": null,
      "outputs": []
    },
    {
      "cell_type": "code",
      "source": [
        "# fit text vectorizer to training text\n",
        "text_vectorizer.adapt(train_X)"
      ],
      "metadata": {
        "id": "bXfy9eKvJKtG"
      },
      "execution_count": null,
      "outputs": []
    },
    {
      "cell_type": "code",
      "source": [
        "#chose random sentence from training data and tokenize it\n",
        "random_sentence = random.choice(train_X)\n",
        "print(f\"original:\\n {random_sentence}\\\n",
        "      \\n\\n\\nVecotrized version\\n {text_vectorizer([random_sentence])}\")"
      ],
      "metadata": {
        "colab": {
          "base_uri": "https://localhost:8080/"
        },
        "id": "2vR0a79XJRWy",
        "outputId": "072a4329-349e-423b-cd06-690736a21159"
      },
      "execution_count": null,
      "outputs": [
        {
          "output_type": "stream",
          "name": "stdout",
          "text": [
            "original:\n",
            " i feel when you are a caring person you attract other caring people into your life      \n",
            "\n",
            "\n",
            "Vecotrized version\n",
            " [[   2    3   34   31   44    7  437  171   31 7277  120  437   63  106\n",
            "   110   78    0    0    0    0]]\n"
          ]
        }
      ]
    },
    {
      "cell_type": "code",
      "source": [
        "#get unique words in vocab\n",
        "words_in_vocab = text_vectorizer.get_vocabulary() #will be `max_tokens` or lesser\n",
        "top_5 = words_in_vocab[:5]\n",
        "bottom_5 = words_in_vocab[-5:]\n",
        "\n",
        "print(f'''\n",
        "  words_in_vocab: {len(words_in_vocab)}\n",
        "  top5: {top_5} \n",
        "  bottom5: {bottom_5}''')\n",
        "\n",
        "#[UNK] is unknown, there might be lot of unknown words"
      ],
      "metadata": {
        "colab": {
          "base_uri": "https://localhost:8080/"
        },
        "id": "47bolNbRJmSE",
        "outputId": "5cb44f5d-af02-4f60-b3c4-17767d082c17"
      },
      "execution_count": null,
      "outputs": [
        {
          "output_type": "stream",
          "name": "stdout",
          "text": [
            "\n",
            "  words_in_vocab: 15214\n",
            "  top5: ['', '[UNK]', 'i', 'feel', 'and'] \n",
            "  bottom5: ['aahhh', 'aac', 'aaaand', 'aaaaand', 'aaaaaaand']\n"
          ]
        }
      ]
    },
    {
      "cell_type": "markdown",
      "source": [
        "###Creating embedding\n",
        "\n",
        "**Requires +ve int input**\n",
        "\n",
        "* `input_dim` = size of voacb\n",
        "\n",
        "* `output_dim` = size of embedding vector, if 3, then each token represented with 3 values\n",
        "\n",
        "* `input_length` = length of sequences being passewd to the embedding layer"
      ],
      "metadata": {
        "id": "0X3ssNePKXjC"
      }
    },
    {
      "cell_type": "code",
      "source": [
        "from tensorflow.keras import layers, Model\n",
        "embedding  = layers.Embedding(input_dim = 16000,\n",
        "                              output_dim = 256,# output shape, better to be multiple of 8\n",
        "                              input_length = 20)"
      ],
      "metadata": {
        "id": "lit9mEuBK28g"
      },
      "execution_count": null,
      "outputs": []
    },
    {
      "cell_type": "markdown",
      "source": [
        "###using LTSM\n",
        "\n",
        "Long short term memory"
      ],
      "metadata": {
        "id": "2NiiSHK3MXL1"
      }
    },
    {
      "cell_type": "code",
      "source": [
        "inputs = layers.Input(shape=(1,), dtype=\"string\")\n",
        "x = text_vectorizer(inputs)\n",
        "x = embedding(x)\n",
        "print(x.shape)\n",
        "# x = layers.LSTM(64, return_sequences=True)(x) # return vector for each word in the Tweet (you can stack RNN cells as long as return_sequences=True)\n",
        "x = layers.LSTM(128)(x) # return vector for whole sequence\n",
        "print(x.shape)\n",
        "# x = layers.Dense(64, activation=\"relu\")(x) # optional dense layer on top of output of LSTM cell\n",
        "outputs = layers.Dense(6, activation=\"softmax\")(x)\n",
        "model_1 = tf.keras.Model(inputs, outputs, name=\"model_1_LSTM\")"
      ],
      "metadata": {
        "colab": {
          "base_uri": "https://localhost:8080/"
        },
        "id": "zf3sdF2vMij8",
        "outputId": "5c4cc38d-31cf-4eb7-a1ca-451a3cb25e2b"
      },
      "execution_count": null,
      "outputs": [
        {
          "output_type": "stream",
          "name": "stdout",
          "text": [
            "(None, 20, 256)\n",
            "(None, 128)\n"
          ]
        }
      ]
    },
    {
      "cell_type": "code",
      "source": [
        "model_1.summary()"
      ],
      "metadata": {
        "colab": {
          "base_uri": "https://localhost:8080/"
        },
        "id": "wGxnombKNa5s",
        "outputId": "636c4df6-9a29-428b-be8a-e92d3d0e4b34"
      },
      "execution_count": null,
      "outputs": [
        {
          "output_type": "stream",
          "name": "stdout",
          "text": [
            "Model: \"model_1_LSTM\"\n",
            "_________________________________________________________________\n",
            " Layer (type)                Output Shape              Param #   \n",
            "=================================================================\n",
            " input_2 (InputLayer)        [(None, 1)]               0         \n",
            "                                                                 \n",
            " text_vectorization (TextVec  (None, 20)               0         \n",
            " torization)                                                     \n",
            "                                                                 \n",
            " embedding (Embedding)       (None, 20, 256)           4096000   \n",
            "                                                                 \n",
            " lstm (LSTM)                 (None, 128)               197120    \n",
            "                                                                 \n",
            " dense_3 (Dense)             (None, 6)                 774       \n",
            "                                                                 \n",
            "=================================================================\n",
            "Total params: 4,293,894\n",
            "Trainable params: 4,293,894\n",
            "Non-trainable params: 0\n",
            "_________________________________________________________________\n"
          ]
        }
      ]
    },
    {
      "cell_type": "code",
      "source": [
        "model_1.compile(loss = \"categorical_crossentropy\",\n",
        "                optimizer = tf.keras.optimizers.Adam(),\n",
        "                metrics = [\"accuracy\"])"
      ],
      "metadata": {
        "id": "U30eJvs2NfLt"
      },
      "execution_count": null,
      "outputs": []
    },
    {
      "cell_type": "code",
      "source": [
        "val_y_onehot = pd.get_dummies(shuffle_val_df_copy.emotion, prefix = \"emotion\")\n",
        "train_y_onehot = pd.get_dummies(shuffle_train_df_copy.emotion, prefix = \"emotion\")"
      ],
      "metadata": {
        "id": "QOzXgHx4P_Zb"
      },
      "execution_count": null,
      "outputs": []
    },
    {
      "cell_type": "code",
      "source": [
        "shuffle_val_df_copy.emotion"
      ],
      "metadata": {
        "colab": {
          "base_uri": "https://localhost:8080/"
        },
        "id": "XxTc78wHT-ST",
        "outputId": "f2eaea0e-e7d9-4524-c11f-50e5ac499490"
      },
      "execution_count": null,
      "outputs": [
        {
          "output_type": "execute_result",
          "data": {
            "text/plain": [
              "554        anger\n",
              "776      sadness\n",
              "1299     sadness\n",
              "1282    surprise\n",
              "539          joy\n",
              "          ...   \n",
              "1267     sadness\n",
              "1655        fear\n",
              "1409        fear\n",
              "808         love\n",
              "392      sadness\n",
              "Name: emotion, Length: 2000, dtype: object"
            ]
          },
          "metadata": {},
          "execution_count": 82
        }
      ]
    },
    {
      "cell_type": "code",
      "source": [
        "train_X_copy = shuffle_train_df_copy[\"review\"].to_numpy()\n",
        "val_X_copy = shuffle_val_df_copy[\"review\"].to_numpy()"
      ],
      "metadata": {
        "id": "TYczfldLVQoX"
      },
      "execution_count": null,
      "outputs": []
    },
    {
      "cell_type": "code",
      "source": [
        "m1 = model_1.fit(train_X_copy, # input sentences can be a list of strings due to text preprocessing layer built-in model\n",
        "                              train_y_onehot,\n",
        "                              epochs=5,\n",
        "                              validation_data=(val_X_copy, val_y_onehot),\n",
        "                              #callbacks=[tf.keras.callbacks.EarlyStopping(monitor='accuracy', patience=3)]\n",
        "            )"
      ],
      "metadata": {
        "colab": {
          "base_uri": "https://localhost:8080/"
        },
        "id": "AhNE2zoINlh9",
        "outputId": "b28b0c8d-c226-4a40-e123-5916df8def99"
      },
      "execution_count": null,
      "outputs": [
        {
          "output_type": "stream",
          "name": "stdout",
          "text": [
            "Epoch 1/5\n",
            "500/500 [==============================] - 10s 9ms/step - loss: 1.0698 - accuracy: 0.5810 - val_loss: 0.5558 - val_accuracy: 0.8075\n",
            "Epoch 2/5\n",
            "500/500 [==============================] - 4s 8ms/step - loss: 0.3539 - accuracy: 0.8788 - val_loss: 0.3902 - val_accuracy: 0.8525\n",
            "Epoch 3/5\n",
            "500/500 [==============================] - 4s 8ms/step - loss: 0.2117 - accuracy: 0.9251 - val_loss: 0.4516 - val_accuracy: 0.8520\n",
            "Epoch 4/5\n",
            "500/500 [==============================] - 4s 8ms/step - loss: 0.1379 - accuracy: 0.9502 - val_loss: 0.4884 - val_accuracy: 0.8555\n",
            "Epoch 5/5\n",
            "500/500 [==============================] - 4s 8ms/step - loss: 0.0946 - accuracy: 0.9657 - val_loss: 0.5910 - val_accuracy: 0.8425\n"
          ]
        }
      ]
    },
    {
      "cell_type": "markdown",
      "source": [
        "####Evalauting model 1"
      ],
      "metadata": {
        "id": "0kvA4bZ9WeoA"
      }
    },
    {
      "cell_type": "code",
      "source": [
        "class_names = shuffle_val_df_copy.emotion.unique()\n",
        "class_names = np.sort(class_names)"
      ],
      "metadata": {
        "id": "GCcZXJreYJXu"
      },
      "execution_count": null,
      "outputs": []
    },
    {
      "cell_type": "code",
      "source": [
        "model_1_pred_probs = model_1.predict(shuffle_test_df_copy.review.to_numpy())\n",
        "model_1_pred_probs.shape\n",
        "model_1_pred = tf.round(model_1_pred_probs)\n",
        "model_1_pred"
      ],
      "metadata": {
        "colab": {
          "base_uri": "https://localhost:8080/"
        },
        "id": "RTnH3wHgW59q",
        "outputId": "2806af38-21f8-4116-d0a7-338c11cb843a"
      },
      "execution_count": null,
      "outputs": [
        {
          "output_type": "stream",
          "name": "stdout",
          "text": [
            "63/63 [==============================] - 1s 3ms/step\n"
          ]
        },
        {
          "output_type": "execute_result",
          "data": {
            "text/plain": [
              "<tf.Tensor: shape=(2000, 6), dtype=float16, numpy=\n",
              "array([[0., 0., 0., 0., 1., 0.],\n",
              "       [0., 0., 0., 0., 0., 1.],\n",
              "       [0., 0., 0., 0., 1., 0.],\n",
              "       ...,\n",
              "       [0., 0., 1., 0., 0., 0.],\n",
              "       [0., 0., 0., 0., 1., 0.],\n",
              "       [0., 0., 0., 1., 0., 0.]], dtype=float16)>"
            ]
          },
          "metadata": {},
          "execution_count": 86
        }
      ]
    },
    {
      "cell_type": "code",
      "source": [
        "model_1_actual  = pd.get_dummies(shuffle_test_df_copy.emotion.to_numpy())\n",
        "model_1_analysis = calculate_results(model_1_actual, model_1_pred)"
      ],
      "metadata": {
        "id": "la6XsFn1Xepd"
      },
      "execution_count": null,
      "outputs": []
    },
    {
      "cell_type": "code",
      "source": [
        "model_1_analysis"
      ],
      "metadata": {
        "colab": {
          "base_uri": "https://localhost:8080/"
        },
        "id": "zXixbOQUXzbR",
        "outputId": "0b81e6b1-f5d6-4c99-df37-bb1f1a7b57bc"
      },
      "execution_count": null,
      "outputs": [
        {
          "output_type": "execute_result",
          "data": {
            "text/plain": [
              "{'accuracy': 82.3,\n",
              " 'precision': 0.8547665689914529,\n",
              " 'recall': 0.823,\n",
              " 'f1': 0.8371856301923574}"
            ]
          },
          "metadata": {},
          "execution_count": 88
        }
      ]
    },
    {
      "cell_type": "markdown",
      "source": [
        "###model 2\n",
        "\n",
        "(does not work without one hot encoding) :(\n",
        "\n",
        "no one hot encoding"
      ],
      "metadata": {
        "id": "84uf0QY8Tas2"
      }
    },
    {
      "cell_type": "code",
      "source": [
        "model_2 = tf.keras.models.clone_model(model_1)"
      ],
      "metadata": {
        "id": "UAfTher2TeVu"
      },
      "execution_count": null,
      "outputs": []
    },
    {
      "cell_type": "code",
      "source": [
        "model_2.compile(loss = \"categorical_crossentropy\",\n",
        "                optimizer = tf.keras.optimizers.Adam(),\n",
        "                metrics = [\"accuracy\"])"
      ],
      "metadata": {
        "id": "QNtvyQR5Tj27"
      },
      "execution_count": null,
      "outputs": []
    },
    {
      "cell_type": "code",
      "source": [
        "# model_2.fit(train_X, # input sentences can be a list of strings due to text preprocessing layer built-in model\n",
        "#                               train_y,\n",
        "#                               epochs=5,\n",
        "#                               validation_data=(val_X, val_y),\n",
        "#                               #callbacks=[tf.keras.callbacks.EarlyStopping(monitor='accuracy', patience=3)]\n",
        "#             )"
      ],
      "metadata": {
        "id": "efNVtdF9TllW"
      },
      "execution_count": null,
      "outputs": []
    },
    {
      "cell_type": "markdown",
      "source": [
        "###model 3\n",
        "\n",
        "using LTSM and GRU"
      ],
      "metadata": {
        "id": "5pC9tSGwTpX-"
      }
    },
    {
      "cell_type": "code",
      "source": [
        "# Build an RNN using the GRU cell\n",
        "inputs = layers.Input(shape=(1,), dtype=\"string\")\n",
        "x = text_vectorizer(inputs)\n",
        "x = embedding(x)\n",
        "x = layers.GRU(64, return_sequences=True)(x) # stacking recurrent cells requires return_sequences=True\n",
        "x = layers.GRU(64)(x) \n",
        "# x = layers.Dense(64, activation=\"relu\")(x) # optional dense layer after GRU cell\n",
        "outputs = layers.Dense(6, activation=\"softmax\")(x)\n",
        "model_3 = tf.keras.Model(inputs, outputs, name=\"model_3_GRU\")"
      ],
      "metadata": {
        "id": "WZnsQPfNbEWE"
      },
      "execution_count": null,
      "outputs": []
    },
    {
      "cell_type": "code",
      "source": [
        "model_3.compile(loss = \"categorical_crossentropy\",\n",
        "                optimizer = tf.keras.optimizers.Adam(),\n",
        "                metrics = [\"accuracy\"])"
      ],
      "metadata": {
        "id": "I-zgd5mTbThG"
      },
      "execution_count": null,
      "outputs": []
    },
    {
      "cell_type": "code",
      "source": [
        "m3 = model_3.fit(train_X_copy, # input sentences can be a list of strings due to text preprocessing layer built-in model\n",
        "                              train_y_onehot,\n",
        "                              epochs=5,\n",
        "                              validation_data=(val_X_copy, val_y_onehot),\n",
        "                              callbacks=[tf.keras.callbacks.EarlyStopping(monitor='accuracy', patience=3)]\n",
        "            )"
      ],
      "metadata": {
        "colab": {
          "base_uri": "https://localhost:8080/"
        },
        "id": "YEhys3VPbXrJ",
        "outputId": "31c54e52-656f-41e2-a964-c3ce90d2a586"
      },
      "execution_count": null,
      "outputs": [
        {
          "output_type": "stream",
          "name": "stdout",
          "text": [
            "Epoch 1/5\n",
            "500/500 [==============================] - 9s 11ms/step - loss: 0.4226 - accuracy: 0.8399 - val_loss: 0.5859 - val_accuracy: 0.8490\n",
            "Epoch 2/5\n",
            "500/500 [==============================] - 4s 9ms/step - loss: 0.0976 - accuracy: 0.9665 - val_loss: 0.5881 - val_accuracy: 0.8475\n",
            "Epoch 3/5\n",
            "500/500 [==============================] - 5s 9ms/step - loss: 0.0614 - accuracy: 0.9783 - val_loss: 0.6504 - val_accuracy: 0.8435\n",
            "Epoch 4/5\n",
            "500/500 [==============================] - 5s 10ms/step - loss: 0.0458 - accuracy: 0.9831 - val_loss: 0.7608 - val_accuracy: 0.8345\n",
            "Epoch 5/5\n",
            "500/500 [==============================] - 5s 9ms/step - loss: 0.0338 - accuracy: 0.9872 - val_loss: 0.8241 - val_accuracy: 0.8330\n"
          ]
        }
      ]
    },
    {
      "cell_type": "code",
      "source": [
        "model_3_pred_probs = model_3.predict(shuffle_test_df_copy.review.to_numpy())\n",
        "model_3_pred = tf.round(model_3_pred_probs)"
      ],
      "metadata": {
        "colab": {
          "base_uri": "https://localhost:8080/"
        },
        "id": "n1fu2zrWb6mk",
        "outputId": "5f450967-0eeb-426c-eb6f-db2fd9646ccf"
      },
      "execution_count": null,
      "outputs": [
        {
          "output_type": "stream",
          "name": "stdout",
          "text": [
            "63/63 [==============================] - 1s 3ms/step\n"
          ]
        }
      ]
    },
    {
      "cell_type": "code",
      "source": [
        "model_3_analysis = calculate_results(model_1_actual, model_3_pred)\n",
        "model_3_analysis[\"precision\"]> model_1_analysis[\"precision\"]"
      ],
      "metadata": {
        "colab": {
          "base_uri": "https://localhost:8080/"
        },
        "id": "plFvX5cTb6ml",
        "outputId": "ae6fa786-3a9a-4448-ff0f-62289bd97fcb"
      },
      "execution_count": null,
      "outputs": [
        {
          "output_type": "execute_result",
          "data": {
            "text/plain": [
              "False"
            ]
          },
          "metadata": {},
          "execution_count": 96
        }
      ]
    },
    {
      "cell_type": "code",
      "source": [
        "model_3_analysis"
      ],
      "metadata": {
        "colab": {
          "base_uri": "https://localhost:8080/"
        },
        "id": "EvROzTNBcHL7",
        "outputId": "d27cf6a2-a841-46bd-dbfa-0ea7b2ae5d49"
      },
      "execution_count": null,
      "outputs": [
        {
          "output_type": "execute_result",
          "data": {
            "text/plain": [
              "{'accuracy': 81.69999999999999,\n",
              " 'precision': 0.832305779934104,\n",
              " 'recall': 0.817,\n",
              " 'f1': 0.8238247758397597}"
            ]
          },
          "metadata": {},
          "execution_count": 97
        }
      ]
    },
    {
      "cell_type": "markdown",
      "source": [
        "the GRU layers pulled the accuracy and precison down :("
      ],
      "metadata": {
        "id": "hkDeLV5neKmy"
      }
    },
    {
      "cell_type": "markdown",
      "source": [
        "###model 4\n",
        "\n",
        "Using GRU and bidirectional"
      ],
      "metadata": {
        "id": "KBmOX7b_RWhT"
      }
    },
    {
      "cell_type": "code",
      "source": [
        "# Build a Bidirectional RNN in TensorFlow\n",
        "inputs = layers.Input(shape=(1,), dtype=\"string\")\n",
        "x = text_vectorizer(inputs)\n",
        "x = embedding(x)\n",
        "# x = layers.Bidirectional(layers.LSTM(64, return_sequences=True))(x) # stacking RNN layers requires return_sequences=True\n",
        "x = layers.Bidirectional(layers.LSTM(64))(x) # bidirectional goes both ways so has double the parameters of a regular LSTM layer\n",
        "outputs = layers.Dense(6, activation=\"softmax\")(x)\n",
        "model_4 = tf.keras.Model(inputs, outputs, name=\"model_4_Bidirectional\")"
      ],
      "metadata": {
        "id": "Ey3XY4PsSzF5"
      },
      "execution_count": null,
      "outputs": []
    },
    {
      "cell_type": "code",
      "source": [
        "model_4.compile(loss = \"categorical_crossentropy\",\n",
        "                optimizer = tf.keras.optimizers.Adam(),\n",
        "                metrics = [\"accuracy\"])"
      ],
      "metadata": {
        "id": "svQaY5X7S7XR"
      },
      "execution_count": null,
      "outputs": []
    },
    {
      "cell_type": "code",
      "source": [
        "m4 = model_4.fit(train_X_copy, # input sentences can be a list of strings due to text preprocessing layer built-in model\n",
        "                              train_y_onehot,\n",
        "                              epochs=5,\n",
        "                              validation_data=(val_X_copy, val_y_onehot),\n",
        "                              callbacks=[tf.keras.callbacks.EarlyStopping(monitor='accuracy', patience=3)]\n",
        "            )"
      ],
      "metadata": {
        "colab": {
          "base_uri": "https://localhost:8080/"
        },
        "id": "3ScGgKWiS-mz",
        "outputId": "368b447d-336e-4e1a-c60c-cfdf14253f32"
      },
      "execution_count": null,
      "outputs": [
        {
          "output_type": "stream",
          "name": "stdout",
          "text": [
            "Epoch 1/5\n",
            "500/500 [==============================] - 9s 12ms/step - loss: 0.2756 - accuracy: 0.9066 - val_loss: 0.6608 - val_accuracy: 0.8335\n",
            "Epoch 2/5\n",
            "500/500 [==============================] - 5s 10ms/step - loss: 0.0635 - accuracy: 0.9793 - val_loss: 0.7060 - val_accuracy: 0.8255\n",
            "Epoch 3/5\n",
            "500/500 [==============================] - 5s 10ms/step - loss: 0.0411 - accuracy: 0.9866 - val_loss: 0.8058 - val_accuracy: 0.8320\n",
            "Epoch 4/5\n",
            "500/500 [==============================] - 5s 10ms/step - loss: 0.0362 - accuracy: 0.9884 - val_loss: 0.8545 - val_accuracy: 0.8195\n",
            "Epoch 5/5\n",
            "500/500 [==============================] - 5s 10ms/step - loss: 0.0308 - accuracy: 0.9886 - val_loss: 0.8838 - val_accuracy: 0.8180\n"
          ]
        }
      ]
    },
    {
      "cell_type": "code",
      "source": [
        "#see if mixed precison works\n",
        "for layer in model_4.layers:\n",
        "    print(layer.name, layer.trainable, layer.dtype, layer.dtype_policy)"
      ],
      "metadata": {
        "colab": {
          "base_uri": "https://localhost:8080/"
        },
        "id": "GPC4ZuLPTDER",
        "outputId": "3475acf3-c5b4-4504-aa12-a4e57b22cfdb"
      },
      "execution_count": null,
      "outputs": [
        {
          "output_type": "stream",
          "name": "stdout",
          "text": [
            "input_4 True string <Policy \"string\">\n",
            "text_vectorization True string <Policy \"string\">\n",
            "embedding True float32 <Policy \"mixed_float16\">\n",
            "bidirectional True float32 <Policy \"mixed_float16\">\n",
            "dense_5 True float32 <Policy \"mixed_float16\">\n"
          ]
        }
      ]
    },
    {
      "cell_type": "code",
      "source": [
        "model_4_pred_probs = model_4.predict(shuffle_test_df_copy.review.to_numpy())\n",
        "model_4_pred = tf.round(model_4_pred_probs)\n",
        "model_4_analysis = calculate_results(model_1_actual, model_4_pred)\n",
        "model_4_analysis"
      ],
      "metadata": {
        "colab": {
          "base_uri": "https://localhost:8080/"
        },
        "id": "XpaQM9ehTRCn",
        "outputId": "f76f4b0a-4a5e-4da5-a190-e1dffbc19738"
      },
      "execution_count": null,
      "outputs": [
        {
          "output_type": "stream",
          "name": "stdout",
          "text": [
            "63/63 [==============================] - 1s 3ms/step\n"
          ]
        },
        {
          "output_type": "execute_result",
          "data": {
            "text/plain": [
              "{'accuracy': 80.05,\n",
              " 'precision': 0.8190063349171878,\n",
              " 'recall': 0.8005,\n",
              " 'f1': 0.8078929437261764}"
            ]
          },
          "metadata": {},
          "execution_count": 102
        }
      ]
    },
    {
      "cell_type": "markdown",
      "source": [
        "##model 5\n",
        "\n",
        "using conv1d"
      ],
      "metadata": {
        "id": "N0PBjXJsTgh5"
      }
    },
    {
      "cell_type": "code",
      "source": [
        "# Create 1-dimensional convolutional layer to model sequences\n",
        "inputs = layers.Input(shape=(1,), dtype=\"string\")\n",
        "x = text_vectorizer(inputs)\n",
        "x = embedding(x)\n",
        "x = layers.Conv1D(filters=128, kernel_size=3, activation=\"relu\")(x)\n",
        "x = layers.GlobalMaxPool1D()(x)\n",
        "# x = layers.Dense(64, activation=\"relu\")(x) # optional dense layer\n",
        "outputs = layers.Dense(6, activation=\"softmax\")(x)\n",
        "model_5 = tf.keras.Model(inputs, outputs, name=\"model_5_Conv1D\")\n",
        "\n",
        "# Compile Conv1D model\n",
        "model_5.compile(loss=\"categorical_crossentropy\",\n",
        "                optimizer=tf.keras.optimizers.Adam(),\n",
        "                metrics=[\"accuracy\"])"
      ],
      "metadata": {
        "id": "lZhMK_nCTuYN"
      },
      "execution_count": null,
      "outputs": []
    },
    {
      "cell_type": "code",
      "source": [
        "m5 = model_5.fit(train_X_copy, # input sentences can be a list of strings due to text preprocessing layer built-in model\n",
        "                              train_y_onehot,\n",
        "                              epochs=5,\n",
        "                              validation_data=(val_X_copy, val_y_onehot),\n",
        "                              callbacks=[tf.keras.callbacks.EarlyStopping(monitor='accuracy', patience=3)]\n",
        "            )"
      ],
      "metadata": {
        "colab": {
          "base_uri": "https://localhost:8080/"
        },
        "id": "sKNNuqJxUFJx",
        "outputId": "cd931e0e-dc8d-4d48-c733-543e07a7f8c0"
      },
      "execution_count": null,
      "outputs": [
        {
          "output_type": "stream",
          "name": "stdout",
          "text": [
            "Epoch 1/5\n",
            "500/500 [==============================] - 9s 7ms/step - loss: 0.1899 - accuracy: 0.9439 - val_loss: 0.5645 - val_accuracy: 0.8410\n",
            "Epoch 2/5\n",
            "500/500 [==============================] - 3s 6ms/step - loss: 0.0537 - accuracy: 0.9836 - val_loss: 0.6693 - val_accuracy: 0.8355\n",
            "Epoch 3/5\n",
            "500/500 [==============================] - 3s 6ms/step - loss: 0.0260 - accuracy: 0.9925 - val_loss: 0.7652 - val_accuracy: 0.8245\n",
            "Epoch 4/5\n",
            "500/500 [==============================] - 3s 6ms/step - loss: 0.0188 - accuracy: 0.9946 - val_loss: 0.8305 - val_accuracy: 0.8310\n",
            "Epoch 5/5\n",
            "500/500 [==============================] - 3s 6ms/step - loss: 0.0148 - accuracy: 0.9962 - val_loss: 0.8886 - val_accuracy: 0.8325\n"
          ]
        }
      ]
    },
    {
      "cell_type": "markdown",
      "source": [
        "This layer was the fastest with really good accuracy"
      ],
      "metadata": {
        "id": "Ze8iDlgUUH8G"
      }
    },
    {
      "cell_type": "code",
      "source": [
        "model_5_pred_probs = model_5.predict(shuffle_test_df_copy.review.to_numpy())\n",
        "model_5_pred = tf.round(model_5_pred_probs)\n",
        "model_5_analysis = calculate_results(model_1_actual, model_5_pred)\n",
        "model_5_analysis"
      ],
      "metadata": {
        "colab": {
          "base_uri": "https://localhost:8080/"
        },
        "id": "UA66lzJCUTkV",
        "outputId": "21958f7b-bc25-40c5-edb3-d1c1e6f2c52f"
      },
      "execution_count": null,
      "outputs": [
        {
          "output_type": "stream",
          "name": "stdout",
          "text": [
            "63/63 [==============================] - 0s 2ms/step\n"
          ]
        },
        {
          "output_type": "execute_result",
          "data": {
            "text/plain": [
              "{'accuracy': 82.0,\n",
              " 'precision': 0.8321237394649457,\n",
              " 'recall': 0.82,\n",
              " 'f1': 0.8258005920553889}"
            ]
          },
          "metadata": {},
          "execution_count": 105
        }
      ]
    },
    {
      "cell_type": "markdown",
      "source": [
        "##Evaluating models using loss curves"
      ],
      "metadata": {
        "id": "MEECJB1BUaI6"
      }
    },
    {
      "cell_type": "code",
      "source": [
        "def plot_loss_curves(history, title):\n",
        "  \"\"\"\n",
        "  Returns separate loss curves for training and validation metrics.\n",
        "  Args:\n",
        "    history: TensorFlow model History object (see: https://www.tensorflow.org/api_docs/python/tf/keras/callbacks/History)\n",
        "  \"\"\" \n",
        "  loss = history.history['loss']\n",
        "  val_loss = history.history['val_loss']\n",
        "\n",
        "  accuracy = history.history['accuracy']\n",
        "  val_accuracy = history.history['val_accuracy']\n",
        "\n",
        "  epochs = range(len(history.history['loss']))\n",
        "\n",
        "  # Plot loss\n",
        "  plt.plot(epochs, loss, label='training_loss')\n",
        "  plt.plot(epochs, val_loss, label='val_loss')\n",
        "  plt.title(f'{title}- Loss')\n",
        "  plt.xlabel('Epochs')\n",
        "  plt.legend()\n",
        "\n",
        "  # Plot accuracy\n",
        "  plt.figure()\n",
        "  plt.plot(epochs, accuracy, label='training_accuracy')\n",
        "  plt.plot(epochs, val_accuracy, label='val_accuracy')\n",
        "  plt.title(f'{title}- Accuracy')\n",
        "  plt.xlabel('Epochs')\n",
        "  plt.legend();"
      ],
      "metadata": {
        "id": "sl3d5iZiUm7M"
      },
      "execution_count": null,
      "outputs": []
    },
    {
      "cell_type": "code",
      "source": [
        "plot_loss_curves(m1,\"m1\")"
      ],
      "metadata": {
        "colab": {
          "base_uri": "https://localhost:8080/",
          "height": 573
        },
        "id": "B9nrQy69VD0N",
        "outputId": "a2e6a2eb-c9dc-4833-a673-848c21ec12ca"
      },
      "execution_count": null,
      "outputs": [
        {
          "output_type": "display_data",
          "data": {
            "text/plain": [
              "<Figure size 432x288 with 1 Axes>"
            ],
            "image/png": "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\n"
          },
          "metadata": {
            "needs_background": "light"
          }
        },
        {
          "output_type": "display_data",
          "data": {
            "text/plain": [
              "<Figure size 432x288 with 1 Axes>"
            ],
            "image/png": "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\n"
          },
          "metadata": {
            "needs_background": "light"
          }
        }
      ]
    },
    {
      "cell_type": "markdown",
      "source": [
        "This tells me model 1 might be **slightly** overfitting since val loss was increasing but training loss was dereasing"
      ],
      "metadata": {
        "id": "ve-uYZRaVzHc"
      }
    },
    {
      "cell_type": "code",
      "source": [
        "plot_loss_curves(m3,\"m3\")"
      ],
      "metadata": {
        "colab": {
          "base_uri": "https://localhost:8080/",
          "height": 573
        },
        "id": "dhAdeug6WetF",
        "outputId": "4d500ccc-8811-4b5c-d2ee-938ef4851091"
      },
      "execution_count": null,
      "outputs": [
        {
          "output_type": "display_data",
          "data": {
            "text/plain": [
              "<Figure size 432x288 with 1 Axes>"
            ],
            "image/png": "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\n"
          },
          "metadata": {
            "needs_background": "light"
          }
        },
        {
          "output_type": "display_data",
          "data": {
            "text/plain": [
              "<Figure size 432x288 with 1 Axes>"
            ],
            "image/png": "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\n"
          },
          "metadata": {
            "needs_background": "light"
          }
        }
      ]
    },
    {
      "cell_type": "markdown",
      "source": [
        "model_3 was good!!"
      ],
      "metadata": {
        "id": "sq12157FWgk7"
      }
    },
    {
      "cell_type": "code",
      "source": [
        "plot_loss_curves(m4,\"m4\")"
      ],
      "metadata": {
        "colab": {
          "base_uri": "https://localhost:8080/",
          "height": 573
        },
        "id": "OiRgen-sWvuG",
        "outputId": "62f63d1a-ae40-41ba-888f-2af90188b785"
      },
      "execution_count": null,
      "outputs": [
        {
          "output_type": "display_data",
          "data": {
            "text/plain": [
              "<Figure size 432x288 with 1 Axes>"
            ],
            "image/png": "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\n"
          },
          "metadata": {
            "needs_background": "light"
          }
        },
        {
          "output_type": "display_data",
          "data": {
            "text/plain": [
              "<Figure size 432x288 with 1 Axes>"
            ],
            "image/png": "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\n"
          },
          "metadata": {
            "needs_background": "light"
          }
        }
      ]
    },
    {
      "cell_type": "markdown",
      "source": [
        "model_4 was also slightly overfitting for same reasons as model_1"
      ],
      "metadata": {
        "id": "JqBUGP2SWw5f"
      }
    },
    {
      "cell_type": "code",
      "source": [
        "plot_loss_curves(m5,\"m5\")"
      ],
      "metadata": {
        "colab": {
          "base_uri": "https://localhost:8080/",
          "height": 573
        },
        "id": "9uGZS4AdW5Hp",
        "outputId": "8d81b422-35ce-4f2c-d11b-1c693ff08415"
      },
      "execution_count": null,
      "outputs": [
        {
          "output_type": "display_data",
          "data": {
            "text/plain": [
              "<Figure size 432x288 with 1 Axes>"
            ],
            "image/png": "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\n"
          },
          "metadata": {
            "needs_background": "light"
          }
        },
        {
          "output_type": "display_data",
          "data": {
            "text/plain": [
              "<Figure size 432x288 with 1 Axes>"
            ],
            "image/png": "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\n"
          },
          "metadata": {
            "needs_background": "light"
          }
        }
      ]
    },
    {
      "cell_type": "markdown",
      "source": [
        "model_5 was okayish in terms of evaluation but was fastest in execution "
      ],
      "metadata": {
        "id": "Uslqo9Q2W6Ps"
      }
    },
    {
      "cell_type": "markdown",
      "source": [
        "##model 6: \n",
        "\n",
        "using feature extraction by pre trained model\n",
        "\n",
        "We will be using BERT"
      ],
      "metadata": {
        "id": "qzYqqDsfXQon"
      }
    },
    {
      "cell_type": "code",
      "source": [
        "!pip install tensorflow_text\n",
        "import tensorflow_text as text  # Registers the ops."
      ],
      "metadata": {
        "colab": {
          "base_uri": "https://localhost:8080/"
        },
        "id": "QlLJ5cLcZm-9",
        "outputId": "ab00f6d7-a998-4c35-d885-3279c670aa3a"
      },
      "execution_count": null,
      "outputs": [
        {
          "output_type": "stream",
          "name": "stdout",
          "text": [
            "Looking in indexes: https://pypi.org/simple, https://us-python.pkg.dev/colab-wheels/public/simple/\n",
            "Requirement already satisfied: tensorflow_text in /usr/local/lib/python3.7/dist-packages (2.10.0)\n",
            "Requirement already satisfied: tensorflow<2.11,>=2.10.0 in /usr/local/lib/python3.7/dist-packages (from tensorflow_text) (2.10.0)\n",
            "Requirement already satisfied: tensorflow-hub>=0.8.0 in /usr/local/lib/python3.7/dist-packages (from tensorflow_text) (0.12.0)\n",
            "Requirement already satisfied: typing-extensions>=3.6.6 in /usr/local/lib/python3.7/dist-packages (from tensorflow<2.11,>=2.10.0->tensorflow_text) (4.1.1)\n",
            "Requirement already satisfied: packaging in /usr/local/lib/python3.7/dist-packages (from tensorflow<2.11,>=2.10.0->tensorflow_text) (21.3)\n",
            "Requirement already satisfied: keras-preprocessing>=1.1.1 in /usr/local/lib/python3.7/dist-packages (from tensorflow<2.11,>=2.10.0->tensorflow_text) (1.1.2)\n",
            "Requirement already satisfied: termcolor>=1.1.0 in /usr/local/lib/python3.7/dist-packages (from tensorflow<2.11,>=2.10.0->tensorflow_text) (2.0.1)\n",
            "Requirement already satisfied: libclang>=13.0.0 in /usr/local/lib/python3.7/dist-packages (from tensorflow<2.11,>=2.10.0->tensorflow_text) (14.0.6)\n",
            "Requirement already satisfied: numpy>=1.20 in /usr/local/lib/python3.7/dist-packages (from tensorflow<2.11,>=2.10.0->tensorflow_text) (1.21.6)\n",
            "Requirement already satisfied: tensorboard<2.11,>=2.10 in /usr/local/lib/python3.7/dist-packages (from tensorflow<2.11,>=2.10.0->tensorflow_text) (2.10.1)\n",
            "Requirement already satisfied: tensorflow-estimator<2.11,>=2.10.0 in /usr/local/lib/python3.7/dist-packages (from tensorflow<2.11,>=2.10.0->tensorflow_text) (2.10.0)\n",
            "Requirement already satisfied: absl-py>=1.0.0 in /usr/local/lib/python3.7/dist-packages (from tensorflow<2.11,>=2.10.0->tensorflow_text) (1.2.0)\n",
            "Requirement already satisfied: h5py>=2.9.0 in /usr/local/lib/python3.7/dist-packages (from tensorflow<2.11,>=2.10.0->tensorflow_text) (3.1.0)\n",
            "Requirement already satisfied: setuptools in /usr/local/lib/python3.7/dist-packages (from tensorflow<2.11,>=2.10.0->tensorflow_text) (57.4.0)\n",
            "Requirement already satisfied: opt-einsum>=2.3.2 in /usr/local/lib/python3.7/dist-packages (from tensorflow<2.11,>=2.10.0->tensorflow_text) (3.3.0)\n",
            "Requirement already satisfied: grpcio<2.0,>=1.24.3 in /usr/local/lib/python3.7/dist-packages (from tensorflow<2.11,>=2.10.0->tensorflow_text) (1.49.1)\n",
            "Requirement already satisfied: six>=1.12.0 in /usr/local/lib/python3.7/dist-packages (from tensorflow<2.11,>=2.10.0->tensorflow_text) (1.15.0)\n",
            "Requirement already satisfied: protobuf<3.20,>=3.9.2 in /usr/local/lib/python3.7/dist-packages (from tensorflow<2.11,>=2.10.0->tensorflow_text) (3.17.3)\n",
            "Requirement already satisfied: astunparse>=1.6.0 in /usr/local/lib/python3.7/dist-packages (from tensorflow<2.11,>=2.10.0->tensorflow_text) (1.6.3)\n",
            "Requirement already satisfied: flatbuffers>=2.0 in /usr/local/lib/python3.7/dist-packages (from tensorflow<2.11,>=2.10.0->tensorflow_text) (22.9.24)\n",
            "Requirement already satisfied: keras<2.11,>=2.10.0 in /usr/local/lib/python3.7/dist-packages (from tensorflow<2.11,>=2.10.0->tensorflow_text) (2.10.0)\n",
            "Requirement already satisfied: tensorflow-io-gcs-filesystem>=0.23.1 in /usr/local/lib/python3.7/dist-packages (from tensorflow<2.11,>=2.10.0->tensorflow_text) (0.27.0)\n",
            "Requirement already satisfied: gast<=0.4.0,>=0.2.1 in /usr/local/lib/python3.7/dist-packages (from tensorflow<2.11,>=2.10.0->tensorflow_text) (0.4.0)\n",
            "Requirement already satisfied: google-pasta>=0.1.1 in /usr/local/lib/python3.7/dist-packages (from tensorflow<2.11,>=2.10.0->tensorflow_text) (0.2.0)\n",
            "Requirement already satisfied: wrapt>=1.11.0 in /usr/local/lib/python3.7/dist-packages (from tensorflow<2.11,>=2.10.0->tensorflow_text) (1.14.1)\n",
            "Requirement already satisfied: wheel<1.0,>=0.23.0 in /usr/local/lib/python3.7/dist-packages (from astunparse>=1.6.0->tensorflow<2.11,>=2.10.0->tensorflow_text) (0.37.1)\n",
            "Requirement already satisfied: cached-property in /usr/local/lib/python3.7/dist-packages (from h5py>=2.9.0->tensorflow<2.11,>=2.10.0->tensorflow_text) (1.5.2)\n",
            "Requirement already satisfied: werkzeug>=1.0.1 in /usr/local/lib/python3.7/dist-packages (from tensorboard<2.11,>=2.10->tensorflow<2.11,>=2.10.0->tensorflow_text) (1.0.1)\n",
            "Requirement already satisfied: google-auth-oauthlib<0.5,>=0.4.1 in /usr/local/lib/python3.7/dist-packages (from tensorboard<2.11,>=2.10->tensorflow<2.11,>=2.10.0->tensorflow_text) (0.4.6)\n",
            "Requirement already satisfied: tensorboard-plugin-wit>=1.6.0 in /usr/local/lib/python3.7/dist-packages (from tensorboard<2.11,>=2.10->tensorflow<2.11,>=2.10.0->tensorflow_text) (1.8.1)\n",
            "Requirement already satisfied: requests<3,>=2.21.0 in /usr/local/lib/python3.7/dist-packages (from tensorboard<2.11,>=2.10->tensorflow<2.11,>=2.10.0->tensorflow_text) (2.23.0)\n",
            "Requirement already satisfied: tensorboard-data-server<0.7.0,>=0.6.0 in /usr/local/lib/python3.7/dist-packages (from tensorboard<2.11,>=2.10->tensorflow<2.11,>=2.10.0->tensorflow_text) (0.6.1)\n",
            "Requirement already satisfied: google-auth<3,>=1.6.3 in /usr/local/lib/python3.7/dist-packages (from tensorboard<2.11,>=2.10->tensorflow<2.11,>=2.10.0->tensorflow_text) (1.35.0)\n",
            "Requirement already satisfied: markdown>=2.6.8 in /usr/local/lib/python3.7/dist-packages (from tensorboard<2.11,>=2.10->tensorflow<2.11,>=2.10.0->tensorflow_text) (3.4.1)\n",
            "Requirement already satisfied: pyasn1-modules>=0.2.1 in /usr/local/lib/python3.7/dist-packages (from google-auth<3,>=1.6.3->tensorboard<2.11,>=2.10->tensorflow<2.11,>=2.10.0->tensorflow_text) (0.2.8)\n",
            "Requirement already satisfied: rsa<5,>=3.1.4 in /usr/local/lib/python3.7/dist-packages (from google-auth<3,>=1.6.3->tensorboard<2.11,>=2.10->tensorflow<2.11,>=2.10.0->tensorflow_text) (4.9)\n",
            "Requirement already satisfied: cachetools<5.0,>=2.0.0 in /usr/local/lib/python3.7/dist-packages (from google-auth<3,>=1.6.3->tensorboard<2.11,>=2.10->tensorflow<2.11,>=2.10.0->tensorflow_text) (4.2.4)\n",
            "Requirement already satisfied: requests-oauthlib>=0.7.0 in /usr/local/lib/python3.7/dist-packages (from google-auth-oauthlib<0.5,>=0.4.1->tensorboard<2.11,>=2.10->tensorflow<2.11,>=2.10.0->tensorflow_text) (1.3.1)\n",
            "Requirement already satisfied: importlib-metadata>=4.4 in /usr/local/lib/python3.7/dist-packages (from markdown>=2.6.8->tensorboard<2.11,>=2.10->tensorflow<2.11,>=2.10.0->tensorflow_text) (5.0.0)\n",
            "Requirement already satisfied: zipp>=0.5 in /usr/local/lib/python3.7/dist-packages (from importlib-metadata>=4.4->markdown>=2.6.8->tensorboard<2.11,>=2.10->tensorflow<2.11,>=2.10.0->tensorflow_text) (3.8.1)\n",
            "Requirement already satisfied: pyasn1<0.5.0,>=0.4.6 in /usr/local/lib/python3.7/dist-packages (from pyasn1-modules>=0.2.1->google-auth<3,>=1.6.3->tensorboard<2.11,>=2.10->tensorflow<2.11,>=2.10.0->tensorflow_text) (0.4.8)\n",
            "Requirement already satisfied: urllib3!=1.25.0,!=1.25.1,<1.26,>=1.21.1 in /usr/local/lib/python3.7/dist-packages (from requests<3,>=2.21.0->tensorboard<2.11,>=2.10->tensorflow<2.11,>=2.10.0->tensorflow_text) (1.24.3)\n",
            "Requirement already satisfied: idna<3,>=2.5 in /usr/local/lib/python3.7/dist-packages (from requests<3,>=2.21.0->tensorboard<2.11,>=2.10->tensorflow<2.11,>=2.10.0->tensorflow_text) (2.10)\n",
            "Requirement already satisfied: chardet<4,>=3.0.2 in /usr/local/lib/python3.7/dist-packages (from requests<3,>=2.21.0->tensorboard<2.11,>=2.10->tensorflow<2.11,>=2.10.0->tensorflow_text) (3.0.4)\n",
            "Requirement already satisfied: certifi>=2017.4.17 in /usr/local/lib/python3.7/dist-packages (from requests<3,>=2.21.0->tensorboard<2.11,>=2.10->tensorflow<2.11,>=2.10.0->tensorflow_text) (2022.9.24)\n",
            "Requirement already satisfied: oauthlib>=3.0.0 in /usr/local/lib/python3.7/dist-packages (from requests-oauthlib>=0.7.0->google-auth-oauthlib<0.5,>=0.4.1->tensorboard<2.11,>=2.10->tensorflow<2.11,>=2.10.0->tensorflow_text) (3.2.1)\n",
            "Requirement already satisfied: pyparsing!=3.0.5,>=2.0.2 in /usr/local/lib/python3.7/dist-packages (from packaging->tensorflow<2.11,>=2.10.0->tensorflow_text) (3.0.9)\n"
          ]
        }
      ]
    },
    {
      "cell_type": "code",
      "source": [
        "import tensorflow_hub as hub"
      ],
      "metadata": {
        "id": "nuR_l5C7uO90"
      },
      "execution_count": null,
      "outputs": []
    },
    {
      "cell_type": "code",
      "source": [
        "# text_input = tf.keras.layers.Input(shape=(), dtype=tf.string)\n",
        "# preprocessor = hub.KerasLayer(\n",
        "#     \"https://tfhub.dev/tensorflow/bert_en_uncased_preprocess/3\")\n",
        "# encoder_inputs = preprocessor(text_input)\n",
        "# encoder = hub.KerasLayer(\n",
        "#     \"https://tfhub.dev/tensorflow/bert_en_uncased_L-24_H-1024_A-16/4\",\n",
        "#     trainable=True)\n",
        "# outputs = encoder(encoder_inputs)\n",
        "# #x = layers.GlobalMaxPool1D()(outputs)\n",
        "# #outputs = layers.Dense(6, activation=\"softmax\")(x)\n",
        "# pooled_output = outputs[\"pooled_output\"]      # [batch_size, 1024].\n",
        "# sequence_output = outputs[\"sequence_output\"]  # [batch_size, seq_length, 1024]."
      ],
      "metadata": {
        "id": "KvRpMLPzXZXz"
      },
      "execution_count": null,
      "outputs": []
    },
    {
      "cell_type": "code",
      "source": [
        "# embedding_model = tf.keras.Model(text_input, pooled_output)"
      ],
      "metadata": {
        "id": "RjvjQwhxuXQR"
      },
      "execution_count": null,
      "outputs": []
    },
    {
      "cell_type": "code",
      "source": [
        "# embedding_model.compile(loss=\"categorical_crossentropy\",\n",
        "#                 optimizer=tf.keras.optimizers.Adam(),\n",
        "#                 metrics=[\"accuracy\"])"
      ],
      "metadata": {
        "id": "YKTvkbINyvMl"
      },
      "execution_count": null,
      "outputs": []
    },
    {
      "cell_type": "code",
      "source": [
        "# m6 = embedding_model.fit(train_X_copy, # input sentences can be a list of strings due to text preprocessing layer built-in model\n",
        "#                               train_y_onehot,\n",
        "#                               epochs=5,\n",
        "#                               validation_data=(val_X_copy, val_y_onehot),\n",
        "#                               callbacks=[tf.keras.callbacks.EarlyStopping(monitor='accuracy', patience=3)]\n",
        "#             )"
      ],
      "metadata": {
        "id": "pG3TsyRN0UuV"
      },
      "execution_count": null,
      "outputs": []
    },
    {
      "cell_type": "code",
      "source": [
        "# #preprocess\n",
        "# preprocessor = hub.load(\n",
        "#     \"https://tfhub.dev/tensorflow/bert_en_uncased_preprocess/3\")\n",
        "\n",
        "# # Step 1: tokenize batches of text inputs.\n",
        "# text_inputs = [tf.keras.layers.Input(shape=(), dtype=tf.string),\n",
        "#                ...] # This SavedModel accepts up to 2 text inputs.\n",
        "# tokenize = hub.KerasLayer(preprocessor.tokenize)\n",
        "# tokenized_inputs = [tokenize(segment) for segment in text_inputs]\n",
        "\n",
        "# # Step 3: pack input sequences for the Transformer encoder.\n",
        "# seq_length = 128  # Your choice here.\n",
        "# bert_pack_inputs = hub.KerasLayer(\n",
        "#     preprocessor.bert_pack_inputs,\n",
        "#     arguments=dict(seq_length=seq_length, batch_size = 6))  # Optional argument.\n",
        "# encoder_inputs = bert_pack_inputs(tokenized_inputs)"
      ],
      "metadata": {
        "id": "L1AJJFtY0eU1"
      },
      "execution_count": null,
      "outputs": []
    },
    {
      "cell_type": "code",
      "source": [
        "# #model\n",
        "# # text_input = tf.keras.layers.Input(shape=(), dtype=tf.string)\n",
        "# # preprocessor = hub.KerasLayer(\n",
        "# #     \"https://tfhub.dev/tensorflow/bert_en_uncased_preprocess/3\")\n",
        "# # encoder_inputs = preprocessor(text_input)\n",
        "# # encoder = hub.KerasLayer(\n",
        "# #     \"https://tfhub.dev/tensorflow/bert_en_uncased_L-24_H-1024_A-16/4\",\n",
        "# #     trainable=True)\n",
        "# outputs = encoder(encoder_inputs)\n",
        "# pooled_output = outputs[\"pooled_output\"]\n",
        "# sequence_output = outputs[\"sequence_output\"]"
      ],
      "metadata": {
        "id": "t7dmXwvh2O6A"
      },
      "execution_count": null,
      "outputs": []
    },
    {
      "cell_type": "code",
      "source": [
        "bert_preprocess = hub.KerasLayer(\"https://tfhub.dev/tensorflow/bert_en_uncased_preprocess/3\")\n",
        "bert_encoder = hub.KerasLayer(\"https://tfhub.dev/tensorflow/bert_en_uncased_L-12_H-768_A-12/4\")"
      ],
      "metadata": {
        "id": "jwmGfKvXMwgQ"
      },
      "execution_count": null,
      "outputs": []
    },
    {
      "cell_type": "code",
      "source": [
        "text_input = tf.keras.layers.Input(shape=(), dtype=tf.string, name='text')\n",
        "preprocessed_text = bert_preprocess(text_input)\n",
        "outputs = bert_encoder(preprocessed_text)\n",
        "\n",
        "# Neural network layers\n",
        "l = tf.keras.layers.Dropout(0.1, name=\"dropout\")(outputs['pooled_output'])\n",
        "l = tf.keras.layers.Dense(6, activation='sigmoid', name=\"output\")(l)\n",
        "\n",
        "# Use inputs and outputs to construct a final model\n",
        "model_6 = tf.keras.Model(inputs=[text_input], outputs = [l])"
      ],
      "metadata": {
        "id": "0eDK2swtOvuJ"
      },
      "execution_count": null,
      "outputs": []
    },
    {
      "cell_type": "code",
      "source": [
        "model_6.compile(optimizer='adam',\n",
        "              loss='categorical_crossentropy',\n",
        "              metrics=[\"accuracy\"])"
      ],
      "metadata": {
        "id": "fdNXC9cZPRYh"
      },
      "execution_count": null,
      "outputs": []
    },
    {
      "cell_type": "code",
      "source": [
        "m6 = model_6.fit(train_X_copy, train_y_onehot, epochs=3)"
      ],
      "metadata": {
        "colab": {
          "base_uri": "https://localhost:8080/"
        },
        "id": "yK-7SiUhPoHu",
        "outputId": "51868c35-7d08-4229-d55d-04addc4c9884"
      },
      "execution_count": null,
      "outputs": [
        {
          "output_type": "stream",
          "name": "stdout",
          "text": [
            "Epoch 1/3\n",
            "500/500 [==============================] - 169s 319ms/step - loss: 1.5556 - accuracy: 0.3886\n",
            "Epoch 2/3\n",
            "500/500 [==============================] - 165s 330ms/step - loss: 1.4696 - accuracy: 0.4366\n",
            "Epoch 3/3\n",
            "500/500 [==============================] - 165s 330ms/step - loss: 1.4326 - accuracy: 0.4567\n"
          ]
        }
      ]
    },
    {
      "cell_type": "code",
      "source": [
        "model_6.evaluate(val_X_copy, val_y_onehot)"
      ],
      "metadata": {
        "colab": {
          "base_uri": "https://localhost:8080/"
        },
        "id": "qD2rcJSTP3Gl",
        "outputId": "5e3226d1-d3fe-44d6-99aa-a9a71c3e3575"
      },
      "execution_count": null,
      "outputs": [
        {
          "output_type": "stream",
          "name": "stdout",
          "text": [
            "63/63 [==============================] - 21s 328ms/step - loss: 1.4145 - accuracy: 0.4865\n"
          ]
        },
        {
          "output_type": "execute_result",
          "data": {
            "text/plain": [
              "[1.4144999980926514, 0.48649999499320984]"
            ]
          },
          "metadata": {},
          "execution_count": 123
        }
      ]
    },
    {
      "cell_type": "markdown",
      "source": [
        "##Model 7\n",
        "\n",
        "using USE model"
      ],
      "metadata": {
        "id": "FE6VIoF-WBRG"
      }
    },
    {
      "cell_type": "code",
      "source": [
        "embed = hub.load(\"https://tfhub.dev/google/universal-sentence-encoder/4\") # load Universal Sentence Encoder\n",
        "sentence_encoder_layer = hub.KerasLayer(\"https://tfhub.dev/google/universal-sentence-encoder/4\",\n",
        "                                        input_shape=[], # shape of inputs coming to our model \n",
        "                                        dtype=tf.string, # data type of inputs coming to the USE layer\n",
        "                                        trainable=False, # keep the pretrained weights (we'll create a feature extractor)\n",
        "                                        name=\"USE\") \n",
        "model_7 = tf.keras.Sequential([\n",
        "  sentence_encoder_layer, # take in sentences and then encode them into an embedding\n",
        "  layers.Dense(128, activation=\"relu\"),  \n",
        "  layers.Dense(64, activation=\"relu\"),\n",
        "  #layers.Dense(128, activation=\"relu\"),  \n",
        "  layers.Dense(6, activation=\"sigmoid\")\n",
        "], name=\"model_7_USE\")\n",
        "\n",
        "# Compile model\n",
        "model_7.compile(loss=\"categorical_crossentropy\",\n",
        "                optimizer=tf.keras.optimizers.Adam(),\n",
        "                metrics=[\"accuracy\"])\n"
      ],
      "metadata": {
        "id": "ro7T6jCuWbxq"
      },
      "execution_count": null,
      "outputs": []
    },
    {
      "cell_type": "code",
      "source": [
        "model_7 = model_7.fit(train_X_copy,\n",
        "                              train_y_onehot,\n",
        "                              epochs=5,\n",
        "                              validation_data=(val_X_copy, val_y_onehot),\n",
        "                              callbacks=[tf.keras.callbacks.EarlyStopping(patience=3)])"
      ],
      "metadata": {
        "colab": {
          "base_uri": "https://localhost:8080/"
        },
        "id": "AebUP6C9Wt4d",
        "outputId": "56c5fefd-98f4-4050-8d1f-1f6887ec6016"
      },
      "execution_count": null,
      "outputs": [
        {
          "output_type": "stream",
          "name": "stdout",
          "text": [
            "Epoch 1/5\n",
            "500/500 [==============================] - 8s 11ms/step - loss: 1.1147 - accuracy: 0.5867 - val_loss: 0.9619 - val_accuracy: 0.6325\n",
            "Epoch 2/5\n",
            "500/500 [==============================] - 5s 10ms/step - loss: 0.9223 - accuracy: 0.6557 - val_loss: 0.9268 - val_accuracy: 0.6445\n",
            "Epoch 3/5\n",
            "500/500 [==============================] - 6s 11ms/step - loss: 0.8658 - accuracy: 0.6754 - val_loss: 0.9004 - val_accuracy: 0.6620\n",
            "Epoch 4/5\n",
            "500/500 [==============================] - 5s 11ms/step - loss: 0.8086 - accuracy: 0.6963 - val_loss: 0.8775 - val_accuracy: 0.6690\n",
            "Epoch 5/5\n",
            "500/500 [==============================] - 5s 10ms/step - loss: 0.7507 - accuracy: 0.7202 - val_loss: 0.8649 - val_accuracy: 0.6660\n"
          ]
        }
      ]
    },
    {
      "cell_type": "code",
      "source": [
        "plot_loss_curves(model_7,\"m7\")"
      ],
      "metadata": {
        "colab": {
          "base_uri": "https://localhost:8080/",
          "height": 573
        },
        "id": "WlaufumvW9yI",
        "outputId": "b60ae6dd-38e6-4b05-9b08-942656a2cf4e"
      },
      "execution_count": null,
      "outputs": [
        {
          "output_type": "display_data",
          "data": {
            "text/plain": [
              "<Figure size 432x288 with 1 Axes>"
            ],
            "image/png": "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\n"
          },
          "metadata": {
            "needs_background": "light"
          }
        },
        {
          "output_type": "display_data",
          "data": {
            "text/plain": [
              "<Figure size 432x288 with 1 Axes>"
            ],
            "image/png": "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\n"
          },
          "metadata": {
            "needs_background": "light"
          }
        }
      ]
    },
    {
      "cell_type": "markdown",
      "source": [
        "this model is working pretty well"
      ],
      "metadata": {
        "id": "6tznLQ4LXe-l"
      }
    },
    {
      "cell_type": "markdown",
      "source": [
        "##Confusion matrix"
      ],
      "metadata": {
        "id": "xoT0DbMwYp7V"
      }
    },
    {
      "cell_type": "code",
      "source": [
        "from sklearn.metrics import confusion_matrix"
      ],
      "metadata": {
        "id": "AEKq8LzukOlv"
      },
      "execution_count": null,
      "outputs": []
    },
    {
      "cell_type": "markdown",
      "source": [
        "We will make this matrix for model 5 since it was really good"
      ],
      "metadata": {
        "id": "ubIfrdjekb8b"
      }
    },
    {
      "cell_type": "code",
      "source": [
        "cm = confusion_matrix(model_1_actual.to_numpy().argmax(axis=1), model_5_pred_probs.argmax(axis=1))\n",
        "cm"
      ],
      "metadata": {
        "colab": {
          "base_uri": "https://localhost:8080/"
        },
        "id": "ofPjkjYUkVTN",
        "outputId": "c798bc10-4849-44ab-ffe4-4d5e0fae5802"
      },
      "execution_count": null,
      "outputs": [
        {
          "output_type": "execute_result",
          "data": {
            "text/plain": [
              "array([[220,   8,  17,   6,  23,   1],\n",
              "       [ 10, 177,   3,   6,  17,  11],\n",
              "       [ 13,   7, 601,  40,  32,   2],\n",
              "       [  6,   3,  39, 103,   7,   1],\n",
              "       [ 14,   9,  47,   9, 499,   3],\n",
              "       [  1,   9,   5,   0,   4,  47]])"
            ]
          },
          "metadata": {},
          "execution_count": 128
        }
      ]
    },
    {
      "cell_type": "code",
      "source": [
        "sns.heatmap(cm)"
      ],
      "metadata": {
        "colab": {
          "base_uri": "https://localhost:8080/",
          "height": 286
        },
        "id": "pj3VPRHzmehV",
        "outputId": "b603982d-2e8d-484b-bd59-1eac7dff2c0c"
      },
      "execution_count": null,
      "outputs": [
        {
          "output_type": "execute_result",
          "data": {
            "text/plain": [
              "<matplotlib.axes._subplots.AxesSubplot at 0x7fee5761ad10>"
            ]
          },
          "metadata": {},
          "execution_count": 129
        },
        {
          "output_type": "display_data",
          "data": {
            "text/plain": [
              "<Figure size 432x288 with 2 Axes>"
            ],
            "image/png": "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\n"
          },
          "metadata": {
            "needs_background": "light"
          }
        }
      ]
    },
    {
      "cell_type": "markdown",
      "source": [
        "We can see the model confuses `4` and `2`, `3` and `2` a lot so we can work on the dataset to fix that"
      ],
      "metadata": {
        "id": "wI50DdL9mqUc"
      }
    },
    {
      "cell_type": "code",
      "source": [
        "class_names[2:5] # things the model is confusing"
      ],
      "metadata": {
        "colab": {
          "base_uri": "https://localhost:8080/"
        },
        "id": "T0FymKZtH5Ui",
        "outputId": "9d2abbf4-bc8e-4b73-f3db-acdfb02277fd"
      },
      "execution_count": null,
      "outputs": [
        {
          "output_type": "execute_result",
          "data": {
            "text/plain": [
              "array(['joy', 'love', 'sadness'], dtype=object)"
            ]
          },
          "metadata": {},
          "execution_count": 130
        }
      ]
    },
    {
      "cell_type": "code",
      "source": [],
      "metadata": {
        "id": "jKBySFlRH8xC"
      },
      "execution_count": null,
      "outputs": []
    }
  ]
}
